{
 "cells": [
  {
   "attachments": {},
   "cell_type": "markdown",
   "metadata": {},
   "source": [
    "# Lyft Bay Wheels – Bay Area Bikeshare"
   ]
  },
  {
   "cell_type": "markdown",
   "metadata": {},
   "source": [
    "In this query project, I used SQL while learning about Google Cloud Platform (GCP) and BiqQuery. I created and answered business-driven questions using public datasets housed in GCP. To get more experience with different ways to use these datasets, I used the web UI (BiqQuery) and command-line tools in Jupyter Notebooks.\n",
    "\n",
    "\n",
    "###### Problem Statement\n",
    "\n",
    "As a data scientist at Lyft Bay Wheels (https://www.lyft.com/bikes/bay-wheels), formerly known as Ford GoBike, the company running Bay Area Bikeshare. I am trying to increase ridership, and want to offer deals through the mobile app to do so.\n",
    "\n",
    "What deals do I offer? Currently, Lyft Bay Wheels has several options which can change over time. Frequent offers include:\n",
    "\n",
    "Single Ride\n",
    "Monthly Membership\n",
    "Annual Membership\n",
    "Bike Share for All\n",
    "Access Pass\n",
    "Corporate Membership\n",
    "etc.\n",
    "\n",
    "Through this project, I will answer these questions:\n",
    "\n",
    "What are the 5 most popular trips that you would call \"commuter trips\"?\n",
    "\n",
    "What are your recommendations for offers (justify based on your findings)?\n"
   ]
  },
  {
   "cell_type": "code",
   "execution_count": 99,
   "metadata": {},
   "outputs": [],
   "source": [
    "import pandas as pd\n",
    "import matplotlib.pyplot as plt\n",
    "import seaborn as sns"
   ]
  },
  {
   "cell_type": "markdown",
   "metadata": {},
   "source": [
    "### Main Question 1: \n",
    "\n",
    "##### What are the 5 most popular trips that you would call \"commuter trips\"?\n",
    "\n",
    "Assuming a \"commuter trip\" is a rental starting in the morning (6-8 AM) and in the afternoon (5-7 PM) and lasting between 5 minutes to 45 minutes, the top 5 bike stations with the most bikes rented during a commuter trip are San Francisco Caltrain (Townsend at 4th), San Francisco Caltrain 2 (330 Townsend), Harry Bridges Plaza (Ferry Building), Temporary Transbay Terminal (Howard at Beale), and Market at 10th. "
   ]
  },
  {
   "cell_type": "code",
   "execution_count": 100,
   "metadata": {},
   "outputs": [
    {
     "name": "stdout",
     "output_type": "stream",
     "text": [
      "Waiting on bqjob_r72e89c29920bde04_00000174e1e391a2_1 ... (0s) Current status: DONE   \n"
     ]
    }
   ],
   "source": [
    "! bq query --use_legacy_sql=FALSE --format=csv 'SELECT start_station_name, COUNT(*) AS total FROM `bike_trip_data.Commuter_stations` GROUP BY start_station_name ORDER BY total DESC;' > commuter_stations.csv"
   ]
  },
  {
   "cell_type": "code",
   "execution_count": 101,
   "metadata": {},
   "outputs": [
    {
     "data": {
      "text/html": [
       "<div>\n",
       "<style scoped>\n",
       "    .dataframe tbody tr th:only-of-type {\n",
       "        vertical-align: middle;\n",
       "    }\n",
       "\n",
       "    .dataframe tbody tr th {\n",
       "        vertical-align: top;\n",
       "    }\n",
       "\n",
       "    .dataframe thead th {\n",
       "        text-align: right;\n",
       "    }\n",
       "</style>\n",
       "<table border=\"1\" class=\"dataframe\">\n",
       "  <thead>\n",
       "    <tr style=\"text-align: right;\">\n",
       "      <th></th>\n",
       "      <th>start_station_name</th>\n",
       "      <th>total</th>\n",
       "    </tr>\n",
       "  </thead>\n",
       "  <tbody>\n",
       "    <tr>\n",
       "      <th>0</th>\n",
       "      <td>San Francisco Caltrain (Townsend at 4th)</td>\n",
       "      <td>36983</td>\n",
       "    </tr>\n",
       "    <tr>\n",
       "      <th>1</th>\n",
       "      <td>San Francisco Caltrain 2 (330 Townsend)</td>\n",
       "      <td>20967</td>\n",
       "    </tr>\n",
       "    <tr>\n",
       "      <th>2</th>\n",
       "      <td>Harry Bridges Plaza (Ferry Building)</td>\n",
       "      <td>13742</td>\n",
       "    </tr>\n",
       "    <tr>\n",
       "      <th>3</th>\n",
       "      <td>Temporary Transbay Terminal (Howard at Beale)</td>\n",
       "      <td>11584</td>\n",
       "    </tr>\n",
       "    <tr>\n",
       "      <th>4</th>\n",
       "      <td>Market at 10th</td>\n",
       "      <td>10516</td>\n",
       "    </tr>\n",
       "    <tr>\n",
       "      <th>...</th>\n",
       "      <td>...</td>\n",
       "      <td>...</td>\n",
       "    </tr>\n",
       "    <tr>\n",
       "      <th>79</th>\n",
       "      <td>Mezes</td>\n",
       "      <td>5</td>\n",
       "    </tr>\n",
       "    <tr>\n",
       "      <th>80</th>\n",
       "      <td>5th S at E. San Salvador St</td>\n",
       "      <td>5</td>\n",
       "    </tr>\n",
       "    <tr>\n",
       "      <th>81</th>\n",
       "      <td>San Jose Government Center</td>\n",
       "      <td>5</td>\n",
       "    </tr>\n",
       "    <tr>\n",
       "      <th>82</th>\n",
       "      <td>Sequoia Hospital</td>\n",
       "      <td>2</td>\n",
       "    </tr>\n",
       "    <tr>\n",
       "      <th>83</th>\n",
       "      <td>5th St at E. San Salvador St</td>\n",
       "      <td>1</td>\n",
       "    </tr>\n",
       "  </tbody>\n",
       "</table>\n",
       "<p>84 rows × 2 columns</p>\n",
       "</div>"
      ],
      "text/plain": [
       "                               start_station_name  total\n",
       "0        San Francisco Caltrain (Townsend at 4th)  36983\n",
       "1         San Francisco Caltrain 2 (330 Townsend)  20967\n",
       "2            Harry Bridges Plaza (Ferry Building)  13742\n",
       "3   Temporary Transbay Terminal (Howard at Beale)  11584\n",
       "4                                  Market at 10th  10516\n",
       "..                                            ...    ...\n",
       "79                                          Mezes      5\n",
       "80                    5th S at E. San Salvador St      5\n",
       "81                     San Jose Government Center      5\n",
       "82                               Sequoia Hospital      2\n",
       "83                   5th St at E. San Salvador St      1\n",
       "\n",
       "[84 rows x 2 columns]"
      ]
     },
     "execution_count": 101,
     "metadata": {},
     "output_type": "execute_result"
    }
   ],
   "source": [
    "commuter_stations = pd.read_csv('commuter_stations.csv')\n",
    "commuter_stations"
   ]
  },
  {
   "cell_type": "code",
   "execution_count": 102,
   "metadata": {},
   "outputs": [
    {
     "data": {
      "image/png": "[encoded data removed]",
      "text/plain": [
       "<Figure size 1296x720 with 1 Axes>"
      ]
     },
     "metadata": {
      "needs_background": "light"
     },
     "output_type": "display_data"
    }
   ],
   "source": [
    "fig_3 = plt.figure(figsize=(18, 10))\n",
    "ax = fig_3.add_axes([0,0,1,1])\n",
    "landmarks = ['San Francisco Caltrain (Townsend at 4th)', 'San Francisco Caltrain 2 (330 Townsend)', 'Harry Bridges Plaza (Ferry Building)', 'Temporary Transbay Terminal (Howard at Beale)', 'Market at 10th']\n",
    "dockcount = [36983,20967,13742,11584,10516]\n",
    "ax.bar(landmarks,dockcount, color = 'orange')\n",
    "plt.show()"
   ]
  },
  {
   "cell_type": "code",
   "execution_count": 103,
   "metadata": {},
   "outputs": [
    {
     "name": "stdout",
     "output_type": "stream",
     "text": [
      "Waiting on bqjob_r17fa890c32f9036_00000174e1e39a9b_1 ... (0s) Current status: DONE   \n"
     ]
    }
   ],
   "source": [
    "! bq query --use_legacy_sql=FALSE --format=csv 'SELECT start_station_name, end_station_name, count(*) AS number_of_trips FROM `bigquery-public-data.san_francisco.bikeshare_trips` WHERE start_station_name <> end_station_name GROUP BY start_station_name, end_station_name HAVING number_of_trips > 5900 ORDER BY 1, 2, 3' > trip_by_station.csv"
   ]
  },
  {
   "cell_type": "code",
   "execution_count": 104,
   "metadata": {},
   "outputs": [
    {
     "data": {
      "text/html": [
       "<div>\n",
       "<style scoped>\n",
       "    .dataframe tbody tr th:only-of-type {\n",
       "        vertical-align: middle;\n",
       "    }\n",
       "\n",
       "    .dataframe tbody tr th {\n",
       "        vertical-align: top;\n",
       "    }\n",
       "\n",
       "    .dataframe thead th {\n",
       "        text-align: right;\n",
       "    }\n",
       "</style>\n",
       "<table border=\"1\" class=\"dataframe\">\n",
       "  <thead>\n",
       "    <tr style=\"text-align: right;\">\n",
       "      <th></th>\n",
       "      <th>start_station_name</th>\n",
       "      <th>end_station_name</th>\n",
       "      <th>number_of_trips</th>\n",
       "    </tr>\n",
       "  </thead>\n",
       "  <tbody>\n",
       "    <tr>\n",
       "      <th>0</th>\n",
       "      <td>2nd at Townsend</td>\n",
       "      <td>Harry Bridges Plaza (Ferry Building)</td>\n",
       "      <td>7620</td>\n",
       "    </tr>\n",
       "    <tr>\n",
       "      <th>1</th>\n",
       "      <td>Embarcadero at Folsom</td>\n",
       "      <td>San Francisco Caltrain (Townsend at 4th)</td>\n",
       "      <td>6351</td>\n",
       "    </tr>\n",
       "    <tr>\n",
       "      <th>2</th>\n",
       "      <td>Embarcadero at Sansome</td>\n",
       "      <td>Steuart at Market</td>\n",
       "      <td>6874</td>\n",
       "    </tr>\n",
       "    <tr>\n",
       "      <th>3</th>\n",
       "      <td>Harry Bridges Plaza (Ferry Building)</td>\n",
       "      <td>2nd at Townsend</td>\n",
       "      <td>6888</td>\n",
       "    </tr>\n",
       "    <tr>\n",
       "      <th>4</th>\n",
       "      <td>Harry Bridges Plaza (Ferry Building)</td>\n",
       "      <td>Embarcadero at Sansome</td>\n",
       "      <td>9150</td>\n",
       "    </tr>\n",
       "    <tr>\n",
       "      <th>5</th>\n",
       "      <td>San Francisco Caltrain (Townsend at 4th)</td>\n",
       "      <td>Harry Bridges Plaza (Ferry Building)</td>\n",
       "      <td>6215</td>\n",
       "    </tr>\n",
       "    <tr>\n",
       "      <th>6</th>\n",
       "      <td>San Francisco Caltrain 2 (330 Townsend)</td>\n",
       "      <td>Townsend at 7th</td>\n",
       "      <td>8508</td>\n",
       "    </tr>\n",
       "    <tr>\n",
       "      <th>7</th>\n",
       "      <td>Steuart at Market</td>\n",
       "      <td>2nd at Townsend</td>\n",
       "      <td>6039</td>\n",
       "    </tr>\n",
       "    <tr>\n",
       "      <th>8</th>\n",
       "      <td>Steuart at Market</td>\n",
       "      <td>San Francisco Caltrain (Townsend at 4th)</td>\n",
       "      <td>5959</td>\n",
       "    </tr>\n",
       "    <tr>\n",
       "      <th>9</th>\n",
       "      <td>Townsend at 7th</td>\n",
       "      <td>San Francisco Caltrain 2 (330 Townsend)</td>\n",
       "      <td>6836</td>\n",
       "    </tr>\n",
       "  </tbody>\n",
       "</table>\n",
       "</div>"
      ],
      "text/plain": [
       "                         start_station_name  \\\n",
       "0                           2nd at Townsend   \n",
       "1                     Embarcadero at Folsom   \n",
       "2                    Embarcadero at Sansome   \n",
       "3      Harry Bridges Plaza (Ferry Building)   \n",
       "4      Harry Bridges Plaza (Ferry Building)   \n",
       "5  San Francisco Caltrain (Townsend at 4th)   \n",
       "6   San Francisco Caltrain 2 (330 Townsend)   \n",
       "7                         Steuart at Market   \n",
       "8                         Steuart at Market   \n",
       "9                           Townsend at 7th   \n",
       "\n",
       "                           end_station_name  number_of_trips  \n",
       "0      Harry Bridges Plaza (Ferry Building)             7620  \n",
       "1  San Francisco Caltrain (Townsend at 4th)             6351  \n",
       "2                         Steuart at Market             6874  \n",
       "3                           2nd at Townsend             6888  \n",
       "4                    Embarcadero at Sansome             9150  \n",
       "5      Harry Bridges Plaza (Ferry Building)             6215  \n",
       "6                           Townsend at 7th             8508  \n",
       "7                           2nd at Townsend             6039  \n",
       "8  San Francisco Caltrain (Townsend at 4th)             5959  \n",
       "9   San Francisco Caltrain 2 (330 Townsend)             6836  "
      ]
     },
     "execution_count": 104,
     "metadata": {},
     "output_type": "execute_result"
    }
   ],
   "source": [
    "trip_by_station = pd.read_csv('trip_by_station.csv')\n",
    "trip_by_station"
   ]
  },
  {
   "cell_type": "markdown",
   "metadata": {},
   "source": [
    "### Main Question 2: \n",
    "\n",
    "##### What are your recommendations for offers (justify based on your findings)?\n",
    "\n",
    "Recommendation 1: Since there are almost 3x as many bike rides taken during the weekdays than there are during the weekends, I would recommend creating a \n",
    "I would also recommend making a subscription discount for stations with high rental rates during commuter times, since if customers are going to use bikes for commuting regularly, it would be in their beter interest to subscribe and Lyft would receive more subscribers. Stations with higher rental rates during commuter times include San Francisco Caltrain (Townsend at 4th), San Francisco Caltrain 2 (330 Townsend), and Harry Bridges Plaza (Ferry Building). \n",
    "\n",
    "Recommendation 2: The bike trip starting at Harry Bridges Plaza (Ferry Building) and ending at Embarcadero at Sansome had the highest frequency in number of trips taken. The average ride from Harry Bridges Plaza (Ferry Building), station ID 50, to Embarcadero at Sansome, station ID 60, takes 1188 seconds, or 19.8 minutes. Offering discounts on the weekends or a bike pass specifically for weekends only (leisure) for these locations may increase bike rentals during the weekends, since sales during the weekays are significantly stronger. \n",
    "\n",
    "Recommendation 3: Offering a student membership for rentals on the weekdays for students to commute to school and on the weekends for leisure to increase sales at low-traffic stations. There are roughly 6x more trips made by subscribers than their are trips made by customers(single ride customers), and lower-income groups like students may be unable to pay a monthly or annual subscription fee upfront, so making a student membership may increase ridership. \n",
    "\n",
    "Recommendation 4: Remove stations where ridership is extremely low (lowest commuter trips = Mezes, 5th S at E. San Salvador St, San Jose Government Center, Sequoia Hospital, and 5th St at E. San Salvador St. Place these docks at other stations that have high foot traffic. \n"
   ]
  },
  {
   "cell_type": "code",
   "execution_count": 105,
   "metadata": {},
   "outputs": [
    {
     "name": "stdout",
     "output_type": "stream",
     "text": [
      "Waiting on bqjob_r64a0f0755546b603_00000174e1e3a1d3_1 ... (0s) Current status: DONE   \n"
     ]
    }
   ],
   "source": [
    "! bq query --use_legacy_sql=FALSE --format=csv 'SELECT * FROM `bike_trip_data.Bikeshare_stations` ORDER BY dockcount DESC LIMIT 5' > dockcount.csv"
   ]
  },
  {
   "cell_type": "code",
   "execution_count": 106,
   "metadata": {},
   "outputs": [
    {
     "data": {
      "text/html": [
       "<div>\n",
       "<style scoped>\n",
       "    .dataframe tbody tr th:only-of-type {\n",
       "        vertical-align: middle;\n",
       "    }\n",
       "\n",
       "    .dataframe tbody tr th {\n",
       "        vertical-align: top;\n",
       "    }\n",
       "\n",
       "    .dataframe thead th {\n",
       "        text-align: right;\n",
       "    }\n",
       "</style>\n",
       "<table border=\"1\" class=\"dataframe\">\n",
       "  <thead>\n",
       "    <tr style=\"text-align: right;\">\n",
       "      <th></th>\n",
       "      <th>station_id</th>\n",
       "      <th>name</th>\n",
       "      <th>latitude</th>\n",
       "      <th>longitude</th>\n",
       "      <th>dockcount</th>\n",
       "      <th>landmark</th>\n",
       "      <th>installation_date</th>\n",
       "    </tr>\n",
       "  </thead>\n",
       "  <tbody>\n",
       "    <tr>\n",
       "      <th>0</th>\n",
       "      <td>91</td>\n",
       "      <td>Cyril Magnin St at Ellis St</td>\n",
       "      <td>37.785908</td>\n",
       "      <td>-122.408891</td>\n",
       "      <td>35</td>\n",
       "      <td>San Francisco</td>\n",
       "      <td>2016-08-04</td>\n",
       "    </tr>\n",
       "    <tr>\n",
       "      <th>1</th>\n",
       "      <td>90</td>\n",
       "      <td>5th St at Folsom St</td>\n",
       "      <td>37.780148</td>\n",
       "      <td>-122.403158</td>\n",
       "      <td>31</td>\n",
       "      <td>San Francisco</td>\n",
       "      <td>2016-08-04</td>\n",
       "    </tr>\n",
       "    <tr>\n",
       "      <th>2</th>\n",
       "      <td>67</td>\n",
       "      <td>Market at 10th</td>\n",
       "      <td>37.776619</td>\n",
       "      <td>-122.417385</td>\n",
       "      <td>27</td>\n",
       "      <td>San Francisco</td>\n",
       "      <td>2013-08-23</td>\n",
       "    </tr>\n",
       "    <tr>\n",
       "      <th>3</th>\n",
       "      <td>77</td>\n",
       "      <td>Market at Sansome</td>\n",
       "      <td>37.789625</td>\n",
       "      <td>-122.400811</td>\n",
       "      <td>27</td>\n",
       "      <td>San Francisco</td>\n",
       "      <td>2013-08-25</td>\n",
       "    </tr>\n",
       "    <tr>\n",
       "      <th>4</th>\n",
       "      <td>61</td>\n",
       "      <td>2nd at Townsend</td>\n",
       "      <td>37.780526</td>\n",
       "      <td>-122.390288</td>\n",
       "      <td>27</td>\n",
       "      <td>San Francisco</td>\n",
       "      <td>2013-08-22</td>\n",
       "    </tr>\n",
       "  </tbody>\n",
       "</table>\n",
       "</div>"
      ],
      "text/plain": [
       "   station_id                         name   latitude   longitude  dockcount  \\\n",
       "0          91  Cyril Magnin St at Ellis St  37.785908 -122.408891         35   \n",
       "1          90          5th St at Folsom St  37.780148 -122.403158         31   \n",
       "2          67               Market at 10th  37.776619 -122.417385         27   \n",
       "3          77            Market at Sansome  37.789625 -122.400811         27   \n",
       "4          61              2nd at Townsend  37.780526 -122.390288         27   \n",
       "\n",
       "        landmark installation_date  \n",
       "0  San Francisco        2016-08-04  \n",
       "1  San Francisco        2016-08-04  \n",
       "2  San Francisco        2013-08-23  \n",
       "3  San Francisco        2013-08-25  \n",
       "4  San Francisco        2013-08-22  "
      ]
     },
     "execution_count": 106,
     "metadata": {},
     "output_type": "execute_result"
    }
   ],
   "source": [
    "dockcount = pd.read_csv('dockcount.csv')\n",
    "dockcount"
   ]
  },
  {
   "cell_type": "code",
   "execution_count": 107,
   "metadata": {},
   "outputs": [
    {
     "data": {
      "image/png": "[encoded data removed]",
      "text/plain": [
       "<Figure size 1080x720 with 1 Axes>"
      ]
     },
     "metadata": {
      "needs_background": "light"
     },
     "output_type": "display_data"
    }
   ],
   "source": [
    "fig_1 = plt.figure(figsize=(15, 10))\n",
    "ax = fig_1.add_axes([0,0,1,1])\n",
    "stations = ['Cyril Magnin St at Ellis St', '5th St at Folsom St', 'Market at 10th', 'Market at Sansome', '2nd at Townsend']\n",
    "dockcount = [35,31,27,27,27]\n",
    "ax.bar(stations,dockcount)\n",
    "plt.show()"
   ]
  },
  {
   "cell_type": "code",
   "execution_count": 108,
   "metadata": {},
   "outputs": [
    {
     "name": "stdout",
     "output_type": "stream",
     "text": [
      "Waiting on bqjob_r7c9d1ca1e38628e9_00000174e1e3a99a_1 ... (0s) Current status: DONE   \n"
     ]
    }
   ],
   "source": [
    "! bq query --use_legacy_sql=FALSE --format=csv 'SELECT * FROM `splendid-map-287823.bike_trip_data.Weekday_weekend`' > weekday_weekend.csv"
   ]
  },
  {
   "cell_type": "code",
   "execution_count": 109,
   "metadata": {},
   "outputs": [
    {
     "data": {
      "text/html": [
       "<div>\n",
       "<style scoped>\n",
       "    .dataframe tbody tr th:only-of-type {\n",
       "        vertical-align: middle;\n",
       "    }\n",
       "\n",
       "    .dataframe tbody tr th {\n",
       "        vertical-align: top;\n",
       "    }\n",
       "\n",
       "    .dataframe thead th {\n",
       "        text-align: right;\n",
       "    }\n",
       "</style>\n",
       "<table border=\"1\" class=\"dataframe\">\n",
       "  <thead>\n",
       "    <tr style=\"text-align: right;\">\n",
       "      <th></th>\n",
       "      <th>dow_weekday</th>\n",
       "      <th>total_weekday_weekend</th>\n",
       "    </tr>\n",
       "  </thead>\n",
       "  <tbody>\n",
       "    <tr>\n",
       "      <th>0</th>\n",
       "      <td>Weekday</td>\n",
       "      <td>871994</td>\n",
       "    </tr>\n",
       "    <tr>\n",
       "      <th>1</th>\n",
       "      <td>Weekend</td>\n",
       "      <td>111654</td>\n",
       "    </tr>\n",
       "  </tbody>\n",
       "</table>\n",
       "</div>"
      ],
      "text/plain": [
       "  dow_weekday  total_weekday_weekend\n",
       "0     Weekday                 871994\n",
       "1     Weekend                 111654"
      ]
     },
     "execution_count": 109,
     "metadata": {},
     "output_type": "execute_result"
    }
   ],
   "source": [
    "weekday_weekend = pd.read_csv('weekday_weekend.csv')\n",
    "weekday_weekend"
   ]
  },
  {
   "cell_type": "code",
   "execution_count": 110,
   "metadata": {},
   "outputs": [
    {
     "name": "stdout",
     "output_type": "stream",
     "text": [
      "Waiting on bqjob_r5903bfd141b60a17_00000174e1e3b168_1 ... (0s) Current status: DONE   \n"
     ]
    }
   ],
   "source": [
    "! bq query --use_legacy_sql=FALSE --format=csv 'SELECT landmark, COUNT(dockcount) AS total FROM `splendid-map-287823.bike_trip_data.Bikeshare_stations` GROUP BY landmark' > landmark_dc.csv"
   ]
  },
  {
   "cell_type": "code",
   "execution_count": 111,
   "metadata": {},
   "outputs": [
    {
     "data": {
      "text/html": [
       "<div>\n",
       "<style scoped>\n",
       "    .dataframe tbody tr th:only-of-type {\n",
       "        vertical-align: middle;\n",
       "    }\n",
       "\n",
       "    .dataframe tbody tr th {\n",
       "        vertical-align: top;\n",
       "    }\n",
       "\n",
       "    .dataframe thead th {\n",
       "        text-align: right;\n",
       "    }\n",
       "</style>\n",
       "<table border=\"1\" class=\"dataframe\">\n",
       "  <thead>\n",
       "    <tr style=\"text-align: right;\">\n",
       "      <th></th>\n",
       "      <th>landmark</th>\n",
       "      <th>total</th>\n",
       "    </tr>\n",
       "  </thead>\n",
       "  <tbody>\n",
       "    <tr>\n",
       "      <th>0</th>\n",
       "      <td>San Jose</td>\n",
       "      <td>18</td>\n",
       "    </tr>\n",
       "    <tr>\n",
       "      <th>1</th>\n",
       "      <td>Palo Alto</td>\n",
       "      <td>5</td>\n",
       "    </tr>\n",
       "    <tr>\n",
       "      <th>2</th>\n",
       "      <td>Redwood City</td>\n",
       "      <td>7</td>\n",
       "    </tr>\n",
       "    <tr>\n",
       "      <th>3</th>\n",
       "      <td>Mountain View</td>\n",
       "      <td>7</td>\n",
       "    </tr>\n",
       "    <tr>\n",
       "      <th>4</th>\n",
       "      <td>San Francisco</td>\n",
       "      <td>37</td>\n",
       "    </tr>\n",
       "  </tbody>\n",
       "</table>\n",
       "</div>"
      ],
      "text/plain": [
       "        landmark  total\n",
       "0       San Jose     18\n",
       "1      Palo Alto      5\n",
       "2   Redwood City      7\n",
       "3  Mountain View      7\n",
       "4  San Francisco     37"
      ]
     },
     "execution_count": 111,
     "metadata": {},
     "output_type": "execute_result"
    }
   ],
   "source": [
    "landmark_dc = pd.read_csv('landmark_dc.csv')\n",
    "landmark_dc"
   ]
  },
  {
   "cell_type": "code",
   "execution_count": 112,
   "metadata": {},
   "outputs": [
    {
     "data": {
      "image/png": "[encoded data removed]",
      "text/plain": [
       "<Figure size 1080x720 with 1 Axes>"
      ]
     },
     "metadata": {
      "needs_background": "light"
     },
     "output_type": "display_data"
    }
   ],
   "source": [
    "fig_2 = plt.figure(figsize=(15, 10))\n",
    "ax = fig_2.add_axes([0,0,1,1])\n",
    "landmarks = ['San Jose', 'Palo Alto', 'Redwood City', 'Mountain View', 'San Francisco']\n",
    "dockcount = [18,5,7,7,37]\n",
    "ax.bar(landmarks,dockcount, color = 'green')\n",
    "plt.show()"
   ]
  },
  {
   "cell_type": "markdown",
   "metadata": {},
   "source": [
    "### Appendix\n",
    "\n",
    "##### SQL Queries "
   ]
  },
  {
   "cell_type": "markdown",
   "metadata": {},
   "source": [
    "SELECT duration_sec, start_date, \n",
    "       EXTRACT(DAYOFWEEK FROM start_date) AS dow_int,\n",
    "       CASE EXTRACT(DAYOFWEEK FROM start_date)\n",
    "           WHEN 1 THEN \"Sunday\"\n",
    "           WHEN 2 THEN \"Monday\"\n",
    "           WHEN 3 THEN \"Tuesday\"\n",
    "           WHEN 4 THEN \"Wednesday\"\n",
    "           WHEN 5 THEN \"Thursday\"\n",
    "           WHEN 6 THEN \"Friday\"\n",
    "           WHEN 7 THEN \"Saturday\"\n",
    "           END AS dow_str,\n",
    "       CASE \n",
    "           WHEN EXTRACT(DAYOFWEEK FROM start_date) IN (1, 7) THEN \"Weekend\"\n",
    "           ELSE \"Weekday\"\n",
    "           END AS dow_weekday,\n",
    "       EXTRACT(HOUR FROM start_date) AS start_hour,\n",
    "       CASE \n",
    "           WHEN EXTRACT(HOUR FROM start_date) <= 5  OR EXTRACT(HOUR FROM start_date) >= 23 THEN \"Nightime\"\n",
    "           WHEN EXTRACT(HOUR FROM start_date) >= 6 and EXTRACT(HOUR FROM start_date) <= 8 THEN \"Morning\"\n",
    "           WHEN EXTRACT(HOUR FROM start_date) >= 9 and EXTRACT(HOUR FROM start_date) <= 10 THEN \"Mid Morning\"\n",
    "           WHEN EXTRACT(HOUR FROM start_date) >= 11 and EXTRACT(HOUR FROM start_date) <= 13 THEN \"Mid Day\"\n",
    "           WHEN EXTRACT(HOUR FROM start_date) >= 14 and EXTRACT(HOUR FROM start_date) <= 16 THEN \"Early Afternoon\"\n",
    "           WHEN EXTRACT(HOUR FROM start_date) >= 17 and EXTRACT(HOUR FROM start_date) <= 19 THEN \"Afternoon\"\n",
    "           WHEN EXTRACT(HOUR FROM start_date) >= 20 and EXTRACT(HOUR FROM start_date) <= 22 THEN \"Evening\"\n",
    "           END AS start_hour_str\n",
    "FROM `bigquery-public-data.san_francisco.bikeshare_trips`\n",
    "WHERE duration_sec <= 2700 AND duration_sec >= 300\n",
    "ORDER BY duration_sec ASC"
   ]
  },
  {
   "cell_type": "markdown",
   "metadata": {},
   "source": [
    "SELECT * FROM `splendid-map-287823.bike_trip_data.Bikeshare_stations`"
   ]
  },
  {
   "cell_type": "markdown",
   "metadata": {},
   "source": [
    "SELECT start_station_name, start_hour_str\n",
    "FROM `bike_trip_data.Station_time_of_day_commuter`\n",
    "WHERE start_hour_str = 'Morning' OR start_hour_str = 'Afternoon'"
   ]
  },
  {
   "cell_type": "markdown",
   "metadata": {},
   "source": [
    "SELECT start_station_name, COUNT(*) AS total\n",
    "FROM `bike_trip_data.Commuter_stations`\n",
    "GROUP BY start_station_name\n",
    "ORDER BY total DESC;"
   ]
  },
  {
   "cell_type": "markdown",
   "metadata": {},
   "source": [
    "SELECT start_hour_str, COUNT(*) AS total\n",
    "FROM `bike_trip_data.5_45_Min_Duration_Weekday`\n",
    "WHERE start_hour_str = 'Morning' OR start_hour_str = 'Afternoon'\n",
    "GROUP BY start_hour_str"
   ]
  },
  {
   "cell_type": "markdown",
   "metadata": {},
   "source": [
    "SELECT start_station_name, duration_sec, start_date,\n",
    "       EXTRACT(DAYOFWEEK FROM start_date) AS dow_int,\n",
    "       CASE EXTRACT(DAYOFWEEK FROM start_date)\n",
    "           WHEN 1 THEN \"Sunday\"\n",
    "           WHEN 2 THEN \"Monday\"\n",
    "           WHEN 3 THEN \"Tuesday\"\n",
    "           WHEN 4 THEN \"Wednesday\"\n",
    "           WHEN 5 THEN \"Thursday\"\n",
    "           WHEN 6 THEN \"Friday\"\n",
    "           WHEN 7 THEN \"Saturday\"\n",
    "           END AS dow_str,\n",
    "       CASE \n",
    "           WHEN EXTRACT(DAYOFWEEK FROM start_date) IN (1, 7) THEN \"Weekend\"\n",
    "           ELSE \"Weekday\"\n",
    "           END AS dow_weekday,\n",
    "       EXTRACT(HOUR FROM start_date) AS start_hour,\n",
    "       CASE \n",
    "           WHEN EXTRACT(HOUR FROM start_date) <= 5  OR EXTRACT(HOUR FROM start_date) >= 23 THEN \"Nightime\"\n",
    "           WHEN EXTRACT(HOUR FROM start_date) >= 6 and EXTRACT(HOUR FROM start_date) <= 8 THEN \"Morning\"\n",
    "           WHEN EXTRACT(HOUR FROM start_date) >= 9 and EXTRACT(HOUR FROM start_date) <= 10 THEN \"Mid Morning\"\n",
    "           WHEN EXTRACT(HOUR FROM start_date) >= 11 and EXTRACT(HOUR FROM start_date) <= 13 THEN \"Mid Day\"\n",
    "           WHEN EXTRACT(HOUR FROM start_date) >= 14 and EXTRACT(HOUR FROM start_date) <= 16 THEN \"Early Afternoon\"\n",
    "           WHEN EXTRACT(HOUR FROM start_date) >= 17 and EXTRACT(HOUR FROM start_date) <= 19 THEN \"Afternoon\"\n",
    "           WHEN EXTRACT(HOUR FROM start_date) >= 20 and EXTRACT(HOUR FROM start_date) <= 22 THEN \"Evening\"\n",
    "           END AS start_hour_str\n",
    "FROM `bigquery-public-data.san_francisco.bikeshare_trips`\n",
    "ORDER BY start_date ASC"
   ]
  },
  {
   "cell_type": "markdown",
   "metadata": {},
   "source": [
    "SELECT duration_sec, start_date\n",
    "FROM `bigquery-public-data.san_francisco.bikeshare_trips`"
   ]
  },
  {
   "cell_type": "markdown",
   "metadata": {},
   "source": [
    "SELECT * FROM `splendid-map-287823.bike_trip_data.Bikeshare_stations`\n",
    "ORDER BY dockcount DESC;"
   ]
  },
  {
   "cell_type": "markdown",
   "metadata": {},
   "source": [
    "SELECT landmark, COUNT(dockcount) AS total FROM `splendid-map-287823.bike_trip_data.Bikeshare_stations` GROUP BY landmark"
   ]
  },
  {
   "cell_type": "markdown",
   "metadata": {},
   "source": [
    "SELECT start_hour_str, COUNT(*) AS total_trips\n",
    "FROM `bike_trip_data.Weekday_time_of_day`\n",
    "WHERE start_hour_str = 'Morning' OR start_hour_str = 'Afternoon'\n",
    "GROUP BY start_hour_str"
   ]
  },
  {
   "cell_type": "markdown",
   "metadata": {},
   "source": [
    "SELECT trip_id\n",
    "FROM `bigquery-public-data.san_francisco.bikeshare_trips`\n",
    "WHERE subscriber_type = 'Subscriber' "
   ]
  },
  {
   "cell_type": "markdown",
   "metadata": {},
   "source": [
    "SELECT start_station_name, start_hour_str\n",
    "FROM `bike_trip_data.Date_time_duration_station_name`\n",
    "WHERE duration_sec >= 500 AND duration_sec <= 2700"
   ]
  },
  {
   "cell_type": "markdown",
   "metadata": {},
   "source": [
    "SELECT COUNT(subscriber_type), start_station_name\n",
    "FROM `bigquery-public-data.san_francisco.bikeshare_trips`\n",
    "WHERE subscriber_type = 'Subscriber'\n",
    "GROUP BY start_station_name"
   ]
  },
  {
   "cell_type": "markdown",
   "metadata": {},
   "source": [
    "SELECT station_id, docks_available, bikes_available, time, \n",
    "(docks_available + bikes_available) as total_bikes\n",
    "FROM `bigquery-public-data.san_francisco.bikeshare_status`"
   ]
  },
  {
   "cell_type": "markdown",
   "metadata": {},
   "source": [
    "SELECT start_station_name, end_station_name, count(*) AS number_of_trips FROM `bigquery-public-data.san_francisco.bikeshare_trips` WHERE start_station_name <> end_station_name GROUP BY start_station_name, end_station_name HAVING number_of_trips > 5900 ORDER BY 1, 2, 3"
   ]
  },
  {
   "cell_type": "markdown",
   "metadata": {},
   "source": [
    "SELECT duration_sec, \n",
    "       CAST(ROUND(duration_sec / 60.0) AS INT64) AS duration_minutes,\n",
    "       CAST(ROUND(duration_sec / 3600.0) AS INT64) AS duration_hours_rounded,\n",
    "       ROUND(duration_sec / 3600.0, 1) AS duration_hours_tenths\n",
    "FROM `bigquery-public-data.san_francisco.bikeshare_trips`\n",
    "ORDER BY duration_sec ASC"
   ]
  },
  {
   "cell_type": "markdown",
   "metadata": {},
   "source": [
    "SELECT start_date,\n",
    "       EXTRACT(DAYOFWEEK FROM start_date) AS dow_int,\n",
    "       CASE EXTRACT(DAYOFWEEK FROM start_date)\n",
    "           WHEN 1 THEN \"Sunday\"\n",
    "           WHEN 2 THEN \"Monday\"\n",
    "           WHEN 3 THEN \"Tuesday\"\n",
    "           WHEN 4 THEN \"Wednesday\"\n",
    "           WHEN 5 THEN \"Thursday\"\n",
    "           WHEN 6 THEN \"Friday\"\n",
    "           WHEN 7 THEN \"Saturday\"\n",
    "           END AS dow_str,\n",
    "       CASE \n",
    "           WHEN EXTRACT(DAYOFWEEK FROM start_date) IN (1, 7) THEN \"Weekend\"\n",
    "           ELSE \"Weekday\"\n",
    "           END AS dow_weekday,\n",
    "       EXTRACT(HOUR FROM start_date) AS start_hour,\n",
    "       CASE \n",
    "           WHEN EXTRACT(HOUR FROM start_date) <= 5  OR EXTRACT(HOUR FROM start_date) >= 23 THEN \"Nightime\"\n",
    "           WHEN EXTRACT(HOUR FROM start_date) >= 6 and EXTRACT(HOUR FROM start_date) <= 8 THEN \"Morning\"\n",
    "           WHEN EXTRACT(HOUR FROM start_date) >= 9 and EXTRACT(HOUR FROM start_date) <= 10 THEN \"Mid Morning\"\n",
    "           WHEN EXTRACT(HOUR FROM start_date) >= 11 and EXTRACT(HOUR FROM start_date) <= 13 THEN \"Mid Day\"\n",
    "           WHEN EXTRACT(HOUR FROM start_date) >= 14 and EXTRACT(HOUR FROM start_date) <= 16 THEN \"Early Afternoon\"\n",
    "           WHEN EXTRACT(HOUR FROM start_date) >= 17 and EXTRACT(HOUR FROM start_date) <= 19 THEN \"Afternoon\"\n",
    "           WHEN EXTRACT(HOUR FROM start_date) >= 20 and EXTRACT(HOUR FROM start_date) <= 22 THEN \"Evening\"\n",
    "           END AS start_hour_str\n",
    "FROM `bigquery-public-data.san_francisco.bikeshare_trips`\n",
    "ORDER BY start_date ASC"
   ]
  },
  {
   "cell_type": "markdown",
   "metadata": {},
   "source": [
    "SELECT dow_weekday, COUNT(*) AS total_weekday_weekend\n",
    "FROM `bike_trip_data.Weekday_time_of_day` \n",
    "WHERE dow_weekday = 'Weekend' OR dow_weekday = 'Weekday'\n",
    "GROUP BY dow_weekday"
   ]
  },
  {
   "cell_type": "markdown",
   "metadata": {},
   "source": [
    "SELECT AVG(duration_sec) FROM `splendid-map-287823.bike_trip_data.Bikeshare_trips` WHERE start_station_id = 50 AND end_station_id = 60"
   ]
  },
  {
   "cell_type": "markdown",
   "metadata": {},
   "source": [
    "SELECT DISTINCT trip_id\n",
    "FROM bigquery-public-data.san_francisco.bikeshare_trips"
   ]
  },
  {
   "cell_type": "markdown",
   "metadata": {},
   "source": [
    "SELECT start_date, end_date \n",
    "FROM bigquery-public-data.san_francisco.bikeshare_trips\n",
    "ORDER BY start_date, end_date ASC;"
   ]
  },
  {
   "cell_type": "markdown",
   "metadata": {},
   "source": [
    "SELECT DISTINCT bike_number\n",
    "FROM bigquery-public-data.san_francisco.bikeshare_trips"
   ]
  },
  {
   "cell_type": "markdown",
   "metadata": {},
   "source": [
    "SELECT duration_sec\n",
    "FROM bigquery-public-data.san_francisco.bikeshare_trips\n",
    "ORDER BY duration_sec DESC;"
   ]
  },
  {
   "cell_type": "markdown",
   "metadata": {},
   "source": [
    "SELECT DISTINCT start_station_name\n",
    "FROM bigquery-public-data.san_francisco.bikeshare_trips"
   ]
  },
  {
   "cell_type": "markdown",
   "metadata": {},
   "source": [
    "SELECT *\n",
    "FROM bigquery-public-data.san_francisco.bikeshare_trips\n",
    "WHERE subscriber_type = 'Customer'"
   ]
  },
  {
   "cell_type": "markdown",
   "metadata": {},
   "source": [
    "SELECT DISTINCT region_id, station_id\n",
    "FROM `bigquery-public-data.san_francisco_bikeshare.bikeshare_station_info`"
   ]
  },
  {
   "cell_type": "code",
   "execution_count": null,
   "metadata": {},
   "outputs": [],
   "source": []
  }
 ],
 "metadata": {
  "environment": {
   "name": "tf2-2-3-gpu.2-3.m55",
   "type": "gcloud",
   "uri": "gcr.io/deeplearning-platform-release/tf2-2-3-gpu.2-3:m55"
  },
  "kernelspec": {
   "display_name": "Python 3",
   "language": "python",
   "name": "python3"
  },
  "language_info": {
   "codemirror_mode": {
    "name": "ipython",
    "version": 3
   },
   "file_extension": ".py",
   "mimetype": "text/x-python",
   "name": "python",
   "nbconvert_exporter": "python",
   "pygments_lexer": "ipython3",
   "version": "3.8.3"
  }
 },
 "nbformat": 4,
 "nbformat_minor": 4
}
