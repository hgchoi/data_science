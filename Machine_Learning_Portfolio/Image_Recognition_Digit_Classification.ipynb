{
 "cells": [
  {
   "cell_type": "markdown",
   "metadata": {
    "colab_type": "text",
    "id": "z6UHmLYVhWAN"
   },
   "source": [
    "# Digit Classification with KNN and Naive Bayes"
   ]
  },
  {
   "cell_type": "markdown",
   "metadata": {
    "colab_type": "text",
    "id": "03M_JSg3hWAO"
   },
   "source": [
    "In this project, I implemented my own image recognition system for classifying digits.\n",
    "\n",
    "Links related to digit recognition:\n",
    "\n",
    "* Yann Lecun's MNIST benchmarks: http://yann.lecun.com/exdb/mnist/\n",
    "* Stanford Streetview research and data: http://ufldl.stanford.edu/housenumbers/\n",
    "\n",
    "Tensorflow tutorial: https://www.tensorflow.org/tutorials/keras/basic_classification. It uses a dataset called \"fashion_mnist\", which is identical in structure to the original digit mnist, but uses images of clothing rather than images of digits. The number of training examples and number of labels is the same. In fact, you can simply replace the code that loads \"fashion_mnist\" with \"mnist\" and everything should work fine."
   ]
  },
  {
   "cell_type": "code",
   "execution_count": 1,
   "metadata": {},
   "outputs": [
    {
     "name": "stdout",
     "output_type": "stream",
     "text": [
      "Collecting package metadata (current_repodata.json): done\n",
      "Solving environment: done\n",
      "\n",
      "## Package Plan ##\n",
      "\n",
      "  environment location: /opt/anaconda3\n",
      "\n",
      "  added / updated specs:\n",
      "    - jupyter\n",
      "\n",
      "\n",
      "The following packages will be downloaded:\n",
      "\n",
      "    package                    |            build\n",
      "    ---------------------------|-----------------\n",
      "    backports.functools_lru_cache-1.6.1|     pyhd3eb1b0_0          12 KB\n",
      "    conda-4.9.2                |   py38hecd8cb5_0         2.9 MB\n",
      "    ------------------------------------------------------------\n",
      "                                           Total:         2.9 MB\n",
      "\n",
      "The following packages will be UPDATED:\n",
      "\n",
      "  conda                                4.9.1-py38hecd8cb5_0 --> 4.9.2-py38hecd8cb5_0\n",
      "\n",
      "The following packages will be DOWNGRADED:\n",
      "\n",
      "  backports.functoo~                             1.6.1-py_0 --> 1.6.1-pyhd3eb1b0_0\n",
      "\n",
      "\n",
      "\n",
      "Downloading and Extracting Packages\n",
      "backports.functools_ | 12 KB     | ##################################### | 100% \n",
      "conda-4.9.2          | 2.9 MB    | ##################################### | 100% \n",
      "Preparing transaction: done\n",
      "Verifying transaction: done\n",
      "Executing transaction: done\n",
      "\n",
      "Note: you may need to restart the kernel to use updated packages.\n"
     ]
    }
   ],
   "source": [
    "conda update jupyter"
   ]
  },
  {
   "cell_type": "code",
   "execution_count": 2,
   "metadata": {
    "colab": {},
    "colab_type": "code",
    "id": "iJ9ayCvyhWAP"
   },
   "outputs": [],
   "source": [
    "# This tells matplotlib not to try opening a new window for each plot.\n",
    "%matplotlib inline\n",
    "\n",
    "# Import a bunch of libraries.\n",
    "import time\n",
    "import numpy as np\n",
    "import matplotlib.pyplot as plt\n",
    "import math as math\n",
    "import numpy as np \n",
    "import pandas as pd \n",
    "from matplotlib.ticker import MultipleLocator\n",
    "from sklearn.pipeline import Pipeline\n",
    "from sklearn.datasets import fetch_openml\n",
    "from sklearn.neighbors import KNeighborsClassifier\n",
    "from sklearn.metrics import confusion_matrix\n",
    "from sklearn.linear_model import LinearRegression\n",
    "from sklearn.naive_bayes import BernoulliNB\n",
    "from sklearn.naive_bayes import MultinomialNB\n",
    "from sklearn.naive_bayes import GaussianNB\n",
    "from sklearn.model_selection import GridSearchCV\n",
    "from sklearn.metrics import classification_report\n",
    "from sklearn.metrics import r2_score\n",
    "from math import log\n",
    "\n",
    "# Set the randomizer seed so results are the same each time.\n",
    "np.random.seed(0)"
   ]
  },
  {
   "cell_type": "markdown",
   "metadata": {
    "colab_type": "text",
    "id": "sO1t0ypThWAR"
   },
   "source": [
    "Load the data. Notice that the data gets partitioned into training, development, and test sets. Also, a small subset of the training data called mini_train_data and mini_train_labels gets defined, which you should use in all the experiments below, unless otherwise noted."
   ]
  },
  {
   "cell_type": "code",
   "execution_count": 3,
   "metadata": {
    "colab": {},
    "colab_type": "code",
    "id": "3yK9DacchWAS"
   },
   "outputs": [
    {
     "name": "stdout",
     "output_type": "stream",
     "text": [
      "data shape:  (70000, 784)\n",
      "label shape: (70000,)\n"
     ]
    }
   ],
   "source": [
    "# Load the digit data from https://www.openml.org/d/554 or from default local location '~/scikit_learn_data/...'\n",
    "X, Y = fetch_openml(name='mnist_784', return_X_y=True, cache=False)\n",
    "\n",
    "\n",
    "# Rescale grayscale values to [0,1].\n",
    "X = X / 255.0\n",
    "\n",
    "# Shuffle the input: create a random permutation of the integers between 0 and the number of data points and apply this\n",
    "# permutation to X and Y.\n",
    "# NOTE: Each time you run this cell, you'll re-shuffle the data, resulting in a different ordering.\n",
    "shuffle = np.random.permutation(np.arange(X.shape[0]))\n",
    "X, Y = X[shuffle], Y[shuffle]\n",
    "\n",
    "print('data shape: ', X.shape)\n",
    "print('label shape:', Y.shape)\n",
    "\n",
    "# Set some variables to hold test, dev, and training data.\n",
    "test_data, test_labels = X[61000:], Y[61000:]\n",
    "dev_data, dev_labels = X[60000:61000], Y[60000:61000]\n",
    "train_data, train_labels = X[:60000], Y[:60000]\n",
    "mini_train_data, mini_train_labels = X[:1000], Y[:1000]"
   ]
  },
  {
   "cell_type": "markdown",
   "metadata": {
    "colab_type": "text",
    "id": "atc2JpWKhWAV"
   },
   "source": [
    "### Part 1:\n",
    "\n",
    "Show a 10x10 grid that visualizes 10 examples of each digit.\n",
    "\n",
    "Notes:\n",
    "* You can use `plt.rc()` for setting the colormap, for example to black and white.\n",
    "* You can use `plt.subplot()` for creating subplots.\n",
    "* You can use `plt.imshow()` for rendering a matrix.\n",
    "* You can use `np.array.reshape()` for reshaping a 1D feature vector into a 2D matrix (for rendering)."
   ]
  },
  {
   "cell_type": "code",
   "execution_count": 4,
   "metadata": {
    "colab": {},
    "colab_type": "code",
    "id": "436UeH7JhWAW"
   },
   "outputs": [
    {
     "data": {
      "image/png": "[encoded data removed]",
      "text/plain": [
       "<Figure size 432x288 with 100 Axes>"
      ]
     },
     "metadata": {
      "needs_background": "light"
     },
     "output_type": "display_data"
    }
   ],
   "source": [
    "def P1(num_examples=10):\n",
    "\n",
    "    #List of actual numbers \n",
    "    reference = np.unique(Y) #List of 10 numbers, ranging 0 through 9\n",
    "    \n",
    "    #Set up arrays to store list of numbers \n",
    "    num_features = [0, 784]\n",
    "    store = np.empty(num_features)\n",
    "    \n",
    "    #Iterate through and create list of handwritten numbers\n",
    "    for i in range(len(reference)): \n",
    "        match = (reference[i] == Y)\n",
    "        example = X[match]\n",
    "        example_list = example[:num_examples]\n",
    "        store = np.append(store, example_list, axis = 0)\n",
    "    \n",
    "    #Iterate through and plot grid of handwritten numbers (10x10)\n",
    "    for j in range(100):   \n",
    "        reshaped = store[j].reshape((28,28))\n",
    "        plt.subplot(10, 10, j+1)\n",
    "        plt.imshow(reshaped, cmap='Greys')\n",
    "        plt.axis('off')\n",
    "    plt.show()\n",
    "    \n",
    "\n",
    "P1(10)\n"
   ]
  },
  {
   "cell_type": "markdown",
   "metadata": {
    "colab_type": "text",
    "id": "EMQAHr7QhWAX"
   },
   "source": [
    "### Part 2:\n",
    "\n",
    "Produce k-Nearest-Neighbors model with k = [1,3,5,7,9].  Evaluate and show teh performance of each model. For the 1-Nearest Neighbor model, show precision, recall, and F1 for each label. Which is the most difficult digit?\n",
    "\n",
    "Notes:\n",
    "* Train on the mini train set.\n",
    "* Evaluate performance on the dev set.\n",
    "* You can use `KNeighborsClassifier` to produce a k-nearest neighbor model.\n",
    "* You can use `classification_report` to get precision, recall, and F1 results."
   ]
  },
  {
   "cell_type": "code",
   "execution_count": 5,
   "metadata": {
    "colab": {},
    "colab_type": "code",
    "id": "-it5pn8-hWAY"
   },
   "outputs": [
    {
     "name": "stdout",
     "output_type": "stream",
     "text": [
      "88.4\n",
      "              precision    recall  f1-score   support\n",
      "\n",
      "           0       0.95      0.95      0.95       106\n",
      "           1       0.89      0.98      0.93       118\n",
      "           2       0.90      0.79      0.84       106\n",
      "           3       0.93      0.87      0.90        97\n",
      "           4       0.91      0.85      0.88        92\n",
      "           5       0.86      0.88      0.87        88\n",
      "           6       0.92      0.92      0.92       102\n",
      "           7       0.85      0.94      0.89       102\n",
      "           8       0.83      0.77      0.80        94\n",
      "           9       0.80      0.86      0.83        95\n",
      "\n",
      "    accuracy                           0.88      1000\n",
      "   macro avg       0.88      0.88      0.88      1000\n",
      "weighted avg       0.89      0.88      0.88      1000\n",
      "\n",
      "87.6\n",
      "              precision    recall  f1-score   support\n",
      "\n",
      "           0       0.94      0.96      0.95       106\n",
      "           1       0.82      0.98      0.90       118\n",
      "           2       0.90      0.78      0.84       106\n",
      "           3       0.89      0.89      0.89        97\n",
      "           4       0.84      0.88      0.86        92\n",
      "           5       0.94      0.84      0.89        88\n",
      "           6       0.91      0.91      0.91       102\n",
      "           7       0.85      0.94      0.89       102\n",
      "           8       0.85      0.74      0.80        94\n",
      "           9       0.84      0.79      0.82        95\n",
      "\n",
      "    accuracy                           0.88      1000\n",
      "   macro avg       0.88      0.87      0.87      1000\n",
      "weighted avg       0.88      0.88      0.87      1000\n",
      "\n",
      "88.2\n",
      "              precision    recall  f1-score   support\n",
      "\n",
      "           0       0.95      0.95      0.95       106\n",
      "           1       0.81      0.99      0.89       118\n",
      "           2       0.96      0.74      0.83       106\n",
      "           3       0.87      0.91      0.89        97\n",
      "           4       0.89      0.88      0.89        92\n",
      "           5       0.96      0.85      0.90        88\n",
      "           6       0.91      0.91      0.91       102\n",
      "           7       0.80      0.95      0.87       102\n",
      "           8       0.84      0.77      0.80        94\n",
      "           9       0.89      0.84      0.86        95\n",
      "\n",
      "    accuracy                           0.88      1000\n",
      "   macro avg       0.89      0.88      0.88      1000\n",
      "weighted avg       0.89      0.88      0.88      1000\n",
      "\n",
      "87.7\n",
      "              precision    recall  f1-score   support\n",
      "\n",
      "           0       0.96      0.96      0.96       106\n",
      "           1       0.80      0.99      0.89       118\n",
      "           2       0.96      0.72      0.82       106\n",
      "           3       0.86      0.91      0.88        97\n",
      "           4       0.91      0.87      0.89        92\n",
      "           5       0.96      0.84      0.90        88\n",
      "           6       0.93      0.92      0.93       102\n",
      "           7       0.80      0.94      0.86       102\n",
      "           8       0.83      0.76      0.79        94\n",
      "           9       0.83      0.83      0.83        95\n",
      "\n",
      "    accuracy                           0.88      1000\n",
      "   macro avg       0.88      0.87      0.88      1000\n",
      "weighted avg       0.88      0.88      0.88      1000\n",
      "\n",
      "87.5\n",
      "              precision    recall  f1-score   support\n",
      "\n",
      "           0       0.96      0.95      0.96       106\n",
      "           1       0.78      0.99      0.87       118\n",
      "           2       0.97      0.69      0.81       106\n",
      "           3       0.87      0.91      0.89        97\n",
      "           4       0.92      0.87      0.89        92\n",
      "           5       0.96      0.85      0.90        88\n",
      "           6       0.91      0.92      0.92       102\n",
      "           7       0.80      0.94      0.86       102\n",
      "           8       0.82      0.78      0.80        94\n",
      "           9       0.85      0.82      0.83        95\n",
      "\n",
      "    accuracy                           0.88      1000\n",
      "   macro avg       0.88      0.87      0.87      1000\n",
      "weighted avg       0.88      0.88      0.87      1000\n",
      "\n"
     ]
    }
   ],
   "source": [
    "def P2(k_values):\n",
    "\n",
    "    \n",
    "    #Iterate through k_values to show performance of each model\n",
    "    for i in k_values:\n",
    "        #Create k-nearest neighbor model \n",
    "        model = KNeighborsClassifier(n_neighbors = i)\n",
    "        #Train on mini train set \n",
    "        model.fit(mini_train_data, mini_train_labels)\n",
    "        #Evaluate performance on dev set\n",
    "        predict = model.predict(dev_data)\n",
    "        print((model.score(dev_data, dev_labels))*100) \n",
    "        #Get precision, recall, and F1 results \n",
    "        print(classification_report(dev_labels, predict))\n",
    "\n",
    "#List of varying k values \n",
    "k_values = [1, 3, 5, 7, 9]\n",
    "P2(k_values)"
   ]
  },
  {
   "cell_type": "markdown",
   "metadata": {
    "colab_type": "text",
    "id": "tZc9gzn5hWAZ"
   },
   "source": [
    "ANSWER: For k=1 nearest neighbors, 9 had the lowest precision(predictions correct), while 8 had the lowest recall(positive cases caught) and f1 scores (positive predictions correct). 8 is the most difficult digit because it  has the lowest f1 score, which takes into account both false positives and false negatives. "
   ]
  },
  {
   "cell_type": "markdown",
   "metadata": {
    "colab_type": "text",
    "id": "7b6YEAzzhWAa"
   },
   "source": [
    "### Part 3:\n",
    "\n",
    "Produce 1-Nearest Neighbor models using training data of various sizes.  Evaluate and show the performance of each model.  Additionally, show the time needed to measure the performance of each model.\n",
    "\n",
    "Notes:\n",
    "* Train on the train set.\n",
    "* Evaluate on the dev set.\n",
    "* You can use `KNeighborsClassifier` to produce a k-nearest neighbor model.\n",
    "* You can use `time.time()` to measure elapsed time of operations."
   ]
  },
  {
   "cell_type": "code",
   "execution_count": 6,
   "metadata": {},
   "outputs": [
    {
     "name": "stdout",
     "output_type": "stream",
     "text": [
      "Time elapsed:  [ 0.263492  0.474475  0.936738  1.865864  3.761998  7.518224 15.110167\n",
      " 30.607985 62.823972]\n",
      "Accuracies:  [0.702 0.791 0.811 0.866 0.905 0.927 0.939 0.952 0.963]\n"
     ]
    }
   ],
   "source": [
    "#List of varying train sizes \n",
    "train_sizes = [100, 200, 400, 800, 1600, 3200, 6400, 12800, 25600]\n",
    "#Empty list to store accuracy values in after running for loop\n",
    "accuracies = []\n",
    "\n",
    "def P3(train_sizes, accuracies):\n",
    "    \n",
    "    #Empty list to store time elapsed values in after running for loop \n",
    "    time_elapsed = []\n",
    "    \n",
    "    #For loop finding accuracies and time elapsed to find accuracies for each train size\n",
    "    for j in train_sizes:\n",
    "        t0= time.process_time()\n",
    "        #Create k-nearest neighbor model \n",
    "        model_1 = KNeighborsClassifier(n_neighbors = 1)\n",
    "        #Train on train set \n",
    "        model_1.fit(train_data[:j], train_labels[:j])\n",
    "        #Evaluate performance on dev set\n",
    "        predict = model_1.predict(dev_data)\n",
    "        score = model_1.score(dev_data, dev_labels)\n",
    "        accuracies = np.append(accuracies, score)\n",
    "        #Measure elapsed time of operations\n",
    "        t1 = time.process_time() - t0\n",
    "        time_elapsed = np.append(time_elapsed, t1)\n",
    "\n",
    "    print(\"Time elapsed: \", time_elapsed)\n",
    "    print(\"Accuracies: \", accuracies)\n",
    "\n",
    "\n",
    "P3(train_sizes, accuracies)"
   ]
  },
  {
   "cell_type": "markdown",
   "metadata": {
    "colab_type": "text",
    "id": "B56lVsKNhWAc"
   },
   "source": [
    "### Part 4:\n",
    "\n",
    "Produce a regression model that predicts accuracy of a 1-Nearest Neighbor model given training set size. Show $R^2$ of the regression model and the accuracies it predicts for training set sizes 60000, 120000, and 1000000.  Show a lineplot of the actual accuracies and predicted accuracies vs. training set size.  What's wrong with using regression here?\n",
    "\n",
    "Apply some transformation that makes the predictions more reasonable.  Show $R^2$ of the improved regression model and the accuracies it predicts for training set sizes 60000, 120000, and 1000000.  Show a lineplot of the actual accuracies and predicted accuracies vs. training set size.\n",
    "\n",
    "Notes:\n",
    "* Train the regression models on all of the (transformed) accuracies estimated in Problem 3.\n",
    "* Evaluate the regression models on all of the (transformed) accuracies estimated in Problem 3.\n",
    "* You can use `LinearRegression` to produce a linear regression model.\n",
    "* Remember that the sklearn `fit()` functions take an input matrix X and output vector Y. So, each input example in X is a vector, even if it contains only a single value."
   ]
  },
  {
   "cell_type": "code",
   "execution_count": 7,
   "metadata": {
    "colab": {},
    "colab_type": "code",
    "id": "4xE_qIJghWAc"
   },
   "outputs": [
    {
     "name": "stdout",
     "output_type": "stream",
     "text": [
      "Predicted accuracies:  [[  780.14939921]\n",
      " [ 1559.92971594]\n",
      " [12996.70769471]]\n",
      "Improved predicted accuracies:  [[0.51206949]\n",
      " [0.52107786]\n",
      " [0.54863352]]\n",
      "R2:  -2349350.1228649025\n",
      "R2 Improved:  0.8849371814264908\n"
     ]
    },
    {
     "data": {
      "image/png": "[encoded data removed]",
      "text/plain": [
       "<Figure size 432x288 with 1 Axes>"
      ]
     },
     "metadata": {
      "needs_background": "light"
     },
     "output_type": "display_data"
    },
    {
     "data": {
      "image/png": "[encoded data removed]",
      "text/plain": [
       "<Figure size 432x288 with 1 Axes>"
      ]
     },
     "metadata": {
      "needs_background": "light"
     },
     "output_type": "display_data"
    }
   ],
   "source": [
    "#List of accuracies of 1-Nearest Neighbor Model given varying train sizes below \n",
    "accuracies = [0.702, 0.791, 0.811, 0.866, 0.905, 0.927, 0.939, 0.952, 0.963]\n",
    "\n",
    "#List of varying train sizes \n",
    "train_sizes = [100, 200, 400, 800, 1600, 3200, 6400, 12800, 25600]\n",
    "\n",
    "def P4():\n",
    "\n",
    "# Notes to self \n",
    "# train on accuracies of 7 examples in problem 3, then test data =  3 new sizes of data \n",
    "# transformed data = train on examples so that data makes sense (not log, still exceeds 100%) - transform 1 axis \n",
    "# odds ratio - doesn't exceed 1 \n",
    "        \n",
    "        #Odds ratio for accuracies\n",
    "        new_accuracies = []\n",
    "    \n",
    "        for m in accuracies:\n",
    "            odds_ratio = m/(1+m)\n",
    "            new_accuracies.append(odds_ratio)\n",
    "        \n",
    "        #print(new_accuracies)\n",
    "        \n",
    "        #Log transform values because relationship is not linear \n",
    "        log_train_sizes = np.log(train_sizes)\n",
    "        log_train_sizes\n",
    "\n",
    "        reshape_train_size = np.array(log_train_sizes).reshape(-1,1)\n",
    "        reshape_accuracies = np.array(new_accuracies).reshape(-1,1)\n",
    "        \n",
    "        reshape_train_size_original = np.array(train_sizes).reshape(-1,1)\n",
    "        reshape_accuracies_original = np.array(accuracies).reshape(-1,1)\n",
    "        \n",
    "        #Create linear regression model \n",
    "        model_2 = LinearRegression()\n",
    "        \n",
    "        #Train on P3 accuracies  \n",
    "        model_2.fit(reshape_train_size, reshape_accuracies)\n",
    "        \n",
    "        #P4 test data \n",
    "        p4_test = np.array([60000, 120000, 1000000]).reshape(-1,1)\n",
    "        log_p4_test = np.log(p4_test)\n",
    "        \n",
    "        #Evaluate performance on new accuracies\n",
    "        predict = model_2.predict(p4_test)\n",
    "        print(\"Predicted accuracies: \", predict)\n",
    "        new_predict = model_2.predict(log_p4_test)\n",
    "        print(\"Improved predicted accuracies: \", new_predict)\n",
    "        \n",
    "        #Calculate R^2\n",
    "        r2_1 = (model_2.score(reshape_train_size_original, reshape_accuracies_original)) \n",
    "        r2_2 = (model_2.score(reshape_train_size, reshape_accuracies))\n",
    "        print(\"R2: \", r2_1)\n",
    "        print(\"R2 Improved: \", r2_2)\n",
    "       \n",
    "        #Lineplot 1\n",
    "        x1 = train_sizes\n",
    "        y1 = accuracies\n",
    "        # plotting the line 1 points \n",
    "        plt.plot(x1, y1, label = \"actual\")\n",
    "        # line 2 points\n",
    "        x2 = p4_test\n",
    "        y2 = new_predict\n",
    "        # plotting the line 2 points \n",
    "        plt.plot(x2, y2, label = \"predicted\")\n",
    "        plt.xlabel('Training sizes')\n",
    "        # Set the y axis label of the current axis.\n",
    "        plt.ylabel('Accuracies')\n",
    "        # Set a title of the current axes.\n",
    "        plt.title('Actual and predicted accuracies vs. training sizes: Untransformed')\n",
    "        # show a legend on the plot\n",
    "        plt.legend()\n",
    "        # Display figure\n",
    "        plt.show()\n",
    "    \n",
    "    \n",
    "        #Lineplot 2\n",
    "        x1 = train_sizes\n",
    "        y1 = accuracies\n",
    "        # plotting the line 1 points \n",
    "        plt.plot(x1, y1, label = \"actual\")\n",
    "        # line 2 points\n",
    "        x2 = log_p4_test\n",
    "        y2 = new_predict\n",
    "        # plotting the line 2 points \n",
    "        plt.plot(x2, y2, label = \"predicted\")\n",
    "        plt.xlabel('Training sizes')\n",
    "        # Set the y axis label of the current axis.\n",
    "        plt.ylabel('Accuracies')\n",
    "        # Set a title of the current axes.\n",
    "        plt.title('Actual and predicted accuracies vs. training sizes: Transformed')\n",
    "        # show a legend on the plot\n",
    "        plt.legend()\n",
    "        # Display figure\n",
    "        plt.show()\n",
    "\n",
    "\n",
    "train_sizes_2 = [60000, 120000, 1000000]\n",
    "P4()"
   ]
  },
  {
   "cell_type": "markdown",
   "metadata": {
    "colab_type": "text",
    "id": "HYYYL9cGhWAe"
   },
   "source": [
    "ANSWER: The values for the new training sizes are so large, a log needs to be taken and an odds ratio used for the data to be normalized."
   ]
  },
  {
   "cell_type": "markdown",
   "metadata": {
    "colab_type": "text",
    "id": "geAQJjGRhWAe"
   },
   "source": [
    "### Part 5:\n",
    "\n",
    "Produce a 1-Nearest Neighbor model and show the confusion matrix. Which pair of digits does the model confuse most often? Show the images of these most often confused digits.\n",
    "\n",
    "Notes:\n",
    "- Train on the mini train set.\n",
    "- Evaluate performance on the dev set.\n",
    "- You can use `confusion_matrix()` to produce a confusion matrix."
   ]
  },
  {
   "cell_type": "code",
   "execution_count": 8,
   "metadata": {
    "colab": {},
    "colab_type": "code",
    "id": "Bq36xaQohWAf"
   },
   "outputs": [
    {
     "name": "stdout",
     "output_type": "stream",
     "text": [
      "0.884\n",
      "[[101   0   1   0   0   0   1   1   2   0]\n",
      " [  0 116   1   0   0   0   0   0   1   0]\n",
      " [  1   4  84   2   2   0   2   4   6   1]\n",
      " [  0   2   0  84   0   6   0   2   3   0]\n",
      " [  0   0   1   0  78   0   0   2   0  11]\n",
      " [  2   0   0   1   1  77   5   0   2   0]\n",
      " [  1   2   1   0   1   2  94   0   1   0]\n",
      " [  0   1   1   0   0   0   0  96   0   4]\n",
      " [  1   5   4   3   1   3   0   1  72   4]\n",
      " [  0   1   0   0   3   2   0   7   0  82]]\n"
     ]
    },
    {
     "data": {
      "image/png": "[encoded data removed]",
      "text/plain": [
       "<Figure size 432x288 with 22 Axes>"
      ]
     },
     "metadata": {
      "needs_background": "light"
     },
     "output_type": "display_data"
    }
   ],
   "source": [
    "def P5():\n",
    "\n",
    "    #Create k-nearest neighbor model \n",
    "    model = KNeighborsClassifier(n_neighbors = 1)\n",
    "    #Train on mini train set \n",
    "    model.fit(mini_train_data, mini_train_labels)\n",
    "    #Evaluate performance on dev set\n",
    "    predict = model.predict(dev_data)\n",
    "    print(model.score(dev_data, dev_labels)) \n",
    "    #Build confusion matrix \n",
    "    print(confusion_matrix(dev_labels, predict))\n",
    "        \n",
    "    #Show most confused digits  \n",
    "    \n",
    "    def find(num_examples=11):\n",
    "\n",
    "\n",
    "        #List of actual numbers \n",
    "        f_and_n = [4, 4, 4, 4, 4, 4, 4, 4, 4, 4, 4, 9, 9, 9, 9, 9, 9, 9, 9, 9, 9, 9]\n",
    "        #reference_2 = (np.unique(Y) = f_and_n)\n",
    "        #print(reference_2)\n",
    "    \n",
    "        #Set up arrays to store list of numbers \n",
    "        num_features = [0, 784]\n",
    "        store = np.empty(num_features)\n",
    "    \n",
    "        #Iterate through and create list of handwritten numbers\n",
    "        for i in range(len(f_and_n)): \n",
    "            example_2 = X[f_and_n]\n",
    "            example_list = example_2[:num_examples]\n",
    "            store = np.append(store, example_list, axis = 0)\n",
    "    \n",
    "        #Iterate through and plot grid of handwritten numbers\n",
    "        for j in range(22): \n",
    "            reshaped = store[j].reshape((28,28))\n",
    "            plt.subplot(2, 11, j+1)\n",
    "            plt.imshow(reshaped, cmap='Greys')\n",
    "            plt.axis('off')\n",
    "        plt.show()\n",
    "\n",
    "    find(11)\n",
    "    \n",
    "\n",
    "P5()"
   ]
  },
  {
   "cell_type": "markdown",
   "metadata": {},
   "source": [
    "ANSWER: The digits 4 and 9 are confused the most (11 times). "
   ]
  },
  {
   "cell_type": "markdown",
   "metadata": {
    "colab_type": "text",
    "id": "tgqMKb-hhWAh"
   },
   "source": [
    "### Part 6:\n",
    "\n",
    "A common image processing technique is to smooth an image by blurring. The idea is that the value of a particular pixel is estimated as the weighted combination of the original value and the values around it. Typically, the blurring is Gaussian, i.e., the weight of a pixel's influence is determined by a Gaussian function over the distance to the relevant pixel.\n",
    "\n",
    "Implement a simplified Gaussian blur by just using the 8 neighboring pixels like this: the smoothed value of a pixel is a weighted combination of the original value and the 8 neighboring values.\n",
    "\n",
    "Apply your blur filter in 3 ways:\n",
    "- Filter the training data but not the dev data\n",
    "- Filter the dev data but not the training data\n",
    "- Filter both training data and dev data\n",
    "\n",
    "Show the accuracy resulting no filter and from each way you apply the filter.\n",
    "\n",
    "Notes:\n",
    "* Train on the (filtered) mini train set.\n",
    "* Evaluate performance on the (filtered) dev set.\n",
    "* There are Guassian blur filters available, for example in `scipy.ndimage.filters`. You are welcome to experiment with those, but you are likely to get the best results with the simplified version described above."
   ]
  },
  {
   "cell_type": "code",
   "execution_count": 9,
   "metadata": {},
   "outputs": [],
   "source": [
    "#Blur function to blur 8 pixels around center pixel, and x number of pixels around edge pixels\n",
    "def blur(number):\n",
    "    normal = number.reshape(28,28)\n",
    "    filtered = np.zeros((28,28))\n",
    "    for i in range(28):\n",
    "        for j in range(28): \n",
    "            if i == 0:\n",
    "                #Top left corner pixel\n",
    "                if j == 0:\n",
    "                    filtered[i,j] = np.sum(normal[i:i+1, j:j+1])/4\n",
    "                #Top right corner pixel\n",
    "                elif j == 27:\n",
    "                    filtered[i,j] = np.sum(normal[i:i+1, j-1:j])/4\n",
    "                #All other pixels in top row\n",
    "                else: \n",
    "                    filtered[i,j] = np.sum(normal[i:i+1, j-1:j+1])/6\n",
    "            elif i == 28:\n",
    "                #Bottom left corner pixel\n",
    "                if j == 0:\n",
    "                    filtered[i,j] = np.sum(normal[i-1:i, j:j+1])/4\n",
    "                #Bottom right corner pixel\n",
    "                elif j == 27:\n",
    "                    filtered[i,j] = np.sum(normal[i-1:i, j-1:j])/4\n",
    "                #All other pixels in bottom row\n",
    "                else: \n",
    "                    filtered[i,j] = np.sum(normal[i-1:i, j-1:j+1])/4\n",
    "            else:\n",
    "                #All other pixels \n",
    "                if j == 0:\n",
    "                    filtered[i,j] = np.sum(normal[i-1:i+j, j:j+1])/6\n",
    "                elif j == 27:\n",
    "                    filtered[i,j] = np.sum(normal[i-1:i+j, j-1:j])/6\n",
    "                else: \n",
    "                    filtered[i,j] = np.sum(normal[i-1:i+j, j-1:j+1])/9\n",
    "    \n",
    "    return filtered.reshape(784,)\n",
    "    "
   ]
  },
  {
   "cell_type": "code",
   "execution_count": 10,
   "metadata": {},
   "outputs": [],
   "source": [
    "#Blur filter application to data\n",
    "def blur_apply(data):\n",
    "    #Empty list for filtered data \n",
    "    filt_data = np.array([])\n",
    "    #for loop applying blur for each input \n",
    "    for value in data:\n",
    "        blur_applied = blur(value)\n",
    "        filt_data = np.append(filt_data, blur_applied)\n",
    "    filt_data_reshaped = filt_data.reshape(1000, 784)\n",
    "        \n",
    "    #Reshape filtered data\n",
    "    return filt_data_reshaped"
   ]
  },
  {
   "cell_type": "code",
   "execution_count": 11,
   "metadata": {
    "colab": {},
    "colab_type": "code",
    "id": "lSKHmHGshWAi"
   },
   "outputs": [
    {
     "name": "stdout",
     "output_type": "stream",
     "text": [
      "Accuracy no filter:  0.884\n",
      "Accuracy mini_train_set filter:  0.298\n",
      "Accuracy dev_set filter:  0.405\n",
      "Accuracy mini_train_set and dev_set filter:  0.797\n"
     ]
    }
   ],
   "source": [
    "def P6():\n",
    "    \n",
    "\n",
    "#Gaussian blur: take pixel, take average of x # of pixels around it, ends at 1 -- blurs\n",
    "\n",
    "    #3x3 Gaussian filter \n",
    "    blurred_mini_train_data = blur_apply(mini_train_data)\n",
    "    \n",
    "    blurred_dev_data = blur_apply(dev_data)\n",
    "    \n",
    "    #Normal model \n",
    "        #Create k-nearest neighbor model \n",
    "    model_3 = KNeighborsClassifier(n_neighbors = 1)\n",
    "        #Train on mini train set \n",
    "    model_3.fit(mini_train_data, mini_train_labels)\n",
    "        #Evaluate performance on dev set\n",
    "    predict = model_3.predict(dev_data)\n",
    "        \n",
    "    score = model_3.score(dev_data, dev_labels)\n",
    "    \n",
    "    #Filter the training data but not the dev data\n",
    "        #Create k-nearest neighbor model \n",
    "    model_3 = KNeighborsClassifier(n_neighbors = 1)\n",
    "        #Train on mini train set \n",
    "    model_3.fit(blurred_mini_train_data, mini_train_labels)\n",
    "        #Evaluate performance on dev set\n",
    "    predict = model_3.predict(blurred_dev_data)\n",
    "        \n",
    "    score_blurred_mini_train_data = model_3.score(dev_data, dev_labels)\n",
    "    \n",
    "    #Filter the dev data but not the training data\n",
    "        #Create k-nearest neighbor model \n",
    "    model_3 = KNeighborsClassifier(n_neighbors = 1)\n",
    "        #Train on mini train set \n",
    "    model_3.fit(mini_train_data, mini_train_labels)\n",
    "        #Evaluate performance on dev set\n",
    "    predict = model_3.predict(blurred_dev_data)\n",
    "        \n",
    "    score_blurred_dev_data = model_3.score(blurred_dev_data, dev_labels)\n",
    "        \n",
    "    #Filter both training data and dev data\n",
    "        #Create k-nearest neighbor model \n",
    "    model_3 = KNeighborsClassifier(n_neighbors = 1)\n",
    "        #Train on mini train set \n",
    "    model_3.fit(blurred_mini_train_data, mini_train_labels)\n",
    "        #Evaluate performance on dev set\n",
    "    predict = model_3.predict(blurred_dev_data)\n",
    "        \n",
    "    score_both_blurred = model_3.score(blurred_dev_data, dev_labels)\n",
    "    \n",
    "    print(\"Accuracy no filter: \", score)\n",
    "    print(\"Accuracy mini_train_set filter: \", score_blurred_mini_train_data)\n",
    "    print(\"Accuracy dev_set filter: \", score_blurred_dev_data)\n",
    "    print(\"Accuracy mini_train_set and dev_set filter: \", score_both_blurred)\n",
    "\n",
    "\n",
    "P6()"
   ]
  },
  {
   "cell_type": "markdown",
   "metadata": {
    "colab_type": "text",
    "id": "LtgepWfAhWAk"
   },
   "source": [
    "### Part 7:\n",
    "\n",
    "Produce two Naive Bayes models and evaluate their performances.  Recall that Naive Bayes estimates P(feature|label), where each label is a categorical, not a real number.\n",
    "\n",
    "For the first model, map pixel values to either 0 or 1, representing white or black - you should pre-process the data or use `BernoulliNB`'s `binarize` parameter.  Use some reasonable threshold to separate white from black.  Use `BernoulliNB` to produce the model.\n",
    "\n",
    "For the second model, map pixel values to either 0, 1, or 2, representing white, gray, or black - you should pre-process the data.  Use some reasonable thresholds to separate white from gray from black.  Use `MultinomialNB` to produce the model. \n",
    "\n",
    "Show the Bernoulli model accuracy and the Multinomial model accuracy.\n",
    "\n",
    "Notes:\n",
    "* Train on the mini train set.\n",
    "* Evaluate performance on the dev set.\n",
    "* `sklearn`'s Naive Bayes methods can handle real numbers, but for this exercise explicitly do the mapping to categoricals. \n",
    "\n",
    "Does the multinomial version improve the results? Why or why not?"
   ]
  },
  {
   "cell_type": "code",
   "execution_count": 12,
   "metadata": {},
   "outputs": [],
   "source": [
    "#Pixel values range from 0 (white) to 255 (black)\n",
    "def binarize_pixels(data, threshold=0.5):\n",
    "    # New array of zeros, same shape as original data\n",
    "    binarized_data = np.zeros(data.shape)\n",
    "\n",
    "    # Threshold for determining cutoffs for each feature\n",
    "    for feature in range(data.shape[1]):\n",
    "        binarized_data[:,feature] = data[:,feature] > threshold\n",
    "    return binarized_data\n",
    "\n",
    "# Create new binarized training and test data\n",
    "binarized_mini_train_data = binarize_pixels(mini_train_data)\n",
    "binarized_dev_data = binarize_pixels(dev_data)\n"
   ]
  },
  {
   "cell_type": "code",
   "execution_count": 13,
   "metadata": {},
   "outputs": [],
   "source": [
    "# New array of zeros, same shape as original data\n",
    "mapped_data = np.zeros(mini_train_data.shape)\n",
    "\n",
    "# Threshold for determining cutoffs for each feature - represents opposite ends of likelihood \n",
    "thresholds = [0.1, 0.9]\n",
    "\n",
    "# Apply threshold \n",
    "mapped_data[np.where(mini_train_data < thresholds[0])] = 0\n",
    "mapped_data[np.where((mini_train_data >= thresholds[0]) & (mini_train_data < thresholds[1]))] = 1\n",
    "mapped_data[np.where(mini_train_data >= thresholds[1])] = 2"
   ]
  },
  {
   "cell_type": "code",
   "execution_count": 14,
   "metadata": {
    "colab": {},
    "colab_type": "code",
    "id": "eGpH-4IQhWAk"
   },
   "outputs": [
    {
     "name": "stdout",
     "output_type": "stream",
     "text": [
      "Accuracy BernoulliNB:  80.2\n",
      "Accuracy MultinomialNB:  80.7\n"
     ]
    }
   ],
   "source": [
    "def P7():\n",
    "\n",
    "\n",
    "    #Bernoulli NB Model\n",
    "    bnb = BernoulliNB()\n",
    "    y_pred_bnb = bnb.fit(binarized_mini_train_data, mini_train_labels).predict(dev_data)\n",
    "    print(\"Accuracy BernoulliNB: \", (bnb.score(dev_data, dev_labels))*100) \n",
    " \n",
    "    #MultinomialNB Model\n",
    "    mnb = MultinomialNB()\n",
    "    y_pred_mnb = mnb.fit(mapped_data, mini_train_labels).predict(dev_data)\n",
    "    print(\"Accuracy MultinomialNB: \",(mnb.score(dev_data, dev_labels))*100) \n",
    "    \n",
    "P7()"
   ]
  },
  {
   "cell_type": "markdown",
   "metadata": {
    "colab_type": "text",
    "id": "zNLrgggohWAm"
   },
   "source": [
    "ANSWER: The Multinomial NB accounts for different features that do occur, while Bernoulli NB accounts for a single feature that does occur and also accounts for when the same feature that does not occur. The MultinomialNB does not improve the results, because the thresholds for assigning each value to a 0, 1, 2 were chosen arbitrarily (given in prompt) and not chosen based on optimal accuracy. "
   ]
  },
  {
   "cell_type": "markdown",
   "metadata": {
    "colab_type": "text",
    "id": "PqjbRLg7hWAm"
   },
   "source": [
    "### Part 8:\n",
    "\n",
    "Search across several values for the LaPlace smoothing parameter (alpha) to find its effect on a Bernoulli Naive Bayes model's performance.  Show the accuracy at each alpha value.\n",
    "\n",
    "Notes:\n",
    "* Train on the mini train set.\n",
    "* Vary alpha and evaulate performance using `GridSearchCV` to cross-validate.\n",
    "* Cross-validation is based on partitions of the training data, so results will be a bit different than if you used the dev set to evaluate performance.\n",
    "\n",
    "What is the best value for alpha? What is the accuracy when alpha is near 0? Is this what you'd expect?"
   ]
  },
  {
   "cell_type": "code",
   "execution_count": 18,
   "metadata": {},
   "outputs": [
    {
     "name": "stdout",
     "output_type": "stream",
     "text": [
      "GridSearchCV score: {'mean_fit_time': array([0.00801282, 0.00684628, 0.00643406, 0.00617986, 0.00610518,\n",
      "       0.0061471 , 0.00605507, 0.0058516 , 0.00600319]), 'std_fit_time': array([6.61748939e-04, 1.47241315e-03, 8.70911220e-04, 4.95488680e-04,\n",
      "       1.94859492e-04, 2.40089635e-04, 2.54557783e-04, 8.81283052e-05,\n",
      "       9.83237064e-05]), 'mean_score_time': array([0.00205736, 0.00150819, 0.00149221, 0.00134902, 0.00136194,\n",
      "       0.00133557, 0.00137482, 0.00138798, 0.00136542]), 'std_score_time': array([2.20745190e-04, 2.18987142e-04, 1.57522157e-04, 3.07304439e-05,\n",
      "       1.54340631e-05, 2.28017925e-05, 3.18092203e-05, 6.62693179e-05,\n",
      "       5.55012643e-05]), 'param_alpha': masked_array(data=[0.0, 0.0001, 0.001, 0.01, 0.1, 0.5, 1.0, 2.0, 10.0],\n",
      "             mask=[False, False, False, False, False, False, False, False,\n",
      "                   False],\n",
      "       fill_value='?',\n",
      "            dtype=object), 'params': [{'alpha': 0.0}, {'alpha': 0.0001}, {'alpha': 0.001}, {'alpha': 0.01}, {'alpha': 0.1}, {'alpha': 0.5}, {'alpha': 1.0}, {'alpha': 2.0}, {'alpha': 10.0}], 'split0_test_score': array([0.86 , 0.87 , 0.87 , 0.865, 0.86 , 0.855, 0.85 , 0.84 , 0.82 ]), 'split1_test_score': array([0.78 , 0.785, 0.785, 0.78 , 0.765, 0.78 , 0.78 , 0.78 , 0.755]), 'split2_test_score': array([0.86 , 0.87 , 0.87 , 0.865, 0.845, 0.85 , 0.85 , 0.845, 0.765]), 'split3_test_score': array([0.79 , 0.815, 0.815, 0.81 , 0.795, 0.8  , 0.795, 0.785, 0.705]), 'split4_test_score': array([0.85 , 0.845, 0.855, 0.85 , 0.855, 0.85 , 0.855, 0.85 , 0.795]), 'mean_test_score': array([0.828, 0.837, 0.839, 0.834, 0.824, 0.827, 0.826, 0.82 , 0.768]), 'std_test_score': array([0.03544009, 0.03295451, 0.03367492, 0.03367492, 0.03746999,\n",
      "       0.03091925, 0.03184337, 0.03082207, 0.03893584]), 'rank_test_score': array([4, 2, 1, 3, 7, 5, 6, 8, 9], dtype=int32)}\n",
      "Best alpha value: {'alpha': 0.001}\n"
     ]
    }
   ],
   "source": [
    "import warnings\n",
    "warnings.filterwarnings('ignore')\n",
    "\n",
    "#Produce Bernoulli NB model and find best alpha out of list\n",
    "def P8(alphas):\n",
    "    bnb = BernoulliNB()\n",
    "    gs_clf = GridSearchCV(bnb, param_grid = alphas, refit=True)\n",
    "    gs_clf.fit(binarized_mini_train_data, mini_train_labels)\n",
    "    y_predictions = gs_clf.predict(dev_data)\n",
    "    print(\"GridSearchCV score:\", gs_clf.cv_results_)\n",
    "    print(\"Best alpha value:\", gs_clf.best_params_)\n",
    "\n",
    "    \n",
    "alphas = {'alpha' : [0.0, 0.0001, 0.001, 0.01, 0.1, 0.5, 1.0, 2.0, 10.0]}\n",
    "\n",
    "P8(alphas)"
   ]
  },
  {
   "cell_type": "markdown",
   "metadata": {
    "colab_type": "text",
    "id": "1yEg9keThWAp"
   },
   "source": [
    "ANSWER: The best value for alpha is 0.001. As the alpha value approaches 0, you get better accuracies overall. This makes sense because the alpha value is not completely equal to 0, which would mean no smoothing, but there is enough smoothing that there is no overfitting. "
   ]
  },
  {
   "cell_type": "markdown",
   "metadata": {
    "colab_type": "text",
    "id": "B07GDiDdhWAq"
   },
   "source": [
    "### Part 9:\n",
    "\n",
    "Produce a model using Guassian Naive Bayes, which is intended for real-valued features, and evaluate performance. You will notice that it does not work so well. Diagnose the problem and apply a simple fix so that the model accuracy is around the same as for a Bernoulli Naive Bayes model. Show the model accuracy before your fix and the model accuracy after your fix.  Explain your solution.\n",
    "\n",
    "Notes:\n",
    "* Train on the mini train set.\n",
    "* Evaluate performance on the dev set.\n",
    "* Consider the effects of theta and sigma.  These are stored in the model's `theta_` and `sigma_` attributes."
   ]
  },
  {
   "cell_type": "code",
   "execution_count": 16,
   "metadata": {
    "colab": {},
    "colab_type": "code",
    "id": "gBLbTMWChWAq"
   },
   "outputs": [
    {
     "name": "stdout",
     "output_type": "stream",
     "text": [
      "GaussianNB accuracy before fix: 59.3\n",
      "Number of mislabeled points out of a total 1000 points : 407\n",
      "BernoulliNB accuracy : 80.9\n",
      "Number of mislabeled points out of a total 1000 points : 191\n",
      "GaussianNB accuracy after fix: 81.69999999999999\n",
      "Number of mislabeled points out of a total 1000 points : 183\n"
     ]
    }
   ],
   "source": [
    "def P9():\n",
    "\n",
    "\n",
    "    #Before fix\n",
    "    gnb = GaussianNB()\n",
    "    y_pred_gnb = gnb.fit(mini_train_data, mini_train_labels).predict(dev_data)\n",
    "    print(\"GaussianNB accuracy before fix:\", (gnb.score(dev_data, dev_labels))*100) \n",
    "    print(\"Number of mislabeled points out of a total %d points : %d\" % (dev_data.shape[0], (dev_labels != y_pred_gnb).sum()))\n",
    "\n",
    "    bnb = BernoulliNB()\n",
    "    y_pred_bnb = bnb.fit(mini_train_data, mini_train_labels).predict(dev_data)\n",
    "    print(\"BernoulliNB accuracy :\", (bnb.score(dev_data, dev_labels))*100) \n",
    "    print(\"Number of mislabeled points out of a total %d points : %d\" % (dev_data.shape[0], (dev_labels != y_pred_bnb).sum()))\n",
    "    \n",
    "    #After fix\n",
    "    #After fix\n",
    "    smoothed_gnb = GaussianNB(var_smoothing=0.1)\n",
    "    y_pred_smoothed_gnb = smoothed_gnb.fit(mini_train_data, mini_train_labels).predict(dev_data)\n",
    "    print(\"GaussianNB accuracy after fix:\", (smoothed_gnb.score(dev_data, dev_labels))*100) \n",
    "    print(\"Number of mislabeled points out of a total %d points : %d\" % (dev_data.shape[0], (dev_labels != y_pred_smoothed_gnb).sum()))\n",
    "    \n",
    "\n",
    "\n",
    "P9()"
   ]
  },
  {
   "cell_type": "markdown",
   "metadata": {
    "colab_type": "text",
    "id": "1SyHTEJohWAt"
   },
   "source": [
    "ANSWER: Theta is the mean of each feature per class and sigma is the variance of each feature per class in Gaussian NB. Because Gaussian NB assumes that each one of the descriptive features follows a normal distribution, the var_smoothing parameter can transform on each feature to make it more or less normally distributed by adding a portion of the largest sigma to each of the sigmas. In this case, var_smoothing=0.1 alters sigma to normalize the distribution and generalize more accurately. "
   ]
  },
  {
   "cell_type": "markdown",
   "metadata": {
    "colab_type": "text",
    "id": "dgZMuc1VhWAt"
   },
   "source": [
    "### Part 10:\n",
    "\n",
    "Because Naive Bayes produces a generative model, you can use it to generate digit images.\n",
    "\n",
    "Produce a Bernoulli Naive Bayes model and then use it to generate a 10x20 grid with 20 example images of each digit. Each pixel output should be either 0 or 1, based on comparing some randomly generated number to the estimated probability of the pixel being either 0 or 1.  Show the grid.\n",
    "\n",
    "Notes:\n",
    "* You can use np.random.rand() to generate random numbers from a uniform distribution.\n",
    "* The estimated probability of each pixel being 0 or 1 is stored in the model's `feature_log_prob_` attribute. You can use `np.exp()` to convert a log probability back to a probability.\n",
    "\n",
    "How do the generated digit images compare to the training digit images?"
   ]
  },
  {
   "cell_type": "code",
   "execution_count": 17,
   "metadata": {
    "colab": {},
    "colab_type": "code",
    "id": "ktii-Mp-hWAu"
   },
   "outputs": [
    {
     "data": {
      "image/png": "[encoded data removed]",
      "text/plain": [
       "<Figure size 432x288 with 200 Axes>"
      ]
     },
     "metadata": {
      "needs_background": "light"
     },
     "output_type": "display_data"
    }
   ],
   "source": [
    "def P10(num_examples):\n",
    "\n",
    "\n",
    "    #Create Bernoulli Naive Bayes model \n",
    "    rows = 0\n",
    "    bnb = BernoulliNB(binarize = 0.0)\n",
    "    fitted = bnb.fit(mini_train_data, mini_train_labels)\n",
    "    #Estimated probability of each pixel being 0 or 1 \n",
    "    pixel_prob = np.exp(fitted.feature_log_prob_)\n",
    "\n",
    "    #Randomly generated number examples from a uniform distribution \n",
    "    X = np.random.rand(num_examples, 784)\n",
    "    #Actual numbers \n",
    "    Y = np.array([0, 1, 2, 3, 4, 5, 6, 7, 8, 9])\n",
    "    \n",
    "    #for loop outputting generated numbers\n",
    "    for i in range(len(Y)):\n",
    "        output = pixel_prob[i] > X\n",
    "        \n",
    "        for j in range(num_examples):   \n",
    "            #Plot \n",
    "            rows +=1\n",
    "            plt.subplot(10, num_examples, rows)\n",
    "            plt.imshow(output[i].reshape(28,28), cmap='Greys')\n",
    "            plt.axis('off')\n",
    "    \n",
    "    plt.show()\n",
    "\n",
    "P10(20)"
   ]
  },
  {
   "cell_type": "markdown",
   "metadata": {
    "colab_type": "text",
    "id": "SuQd1fTGhWAw"
   },
   "source": [
    "ANSWER: Compared to the training data images from Part 1, the generated data images are more blurry and difficult to read. "
   ]
  },
  {
   "cell_type": "code",
   "execution_count": null,
   "metadata": {},
   "outputs": [],
   "source": []
  },
  {
   "cell_type": "code",
   "execution_count": null,
   "metadata": {},
   "outputs": [],
   "source": []
  },
  {
   "cell_type": "code",
   "execution_count": null,
   "metadata": {},
   "outputs": [],
   "source": []
  }
 ],
 "metadata": {
  "colab": {
   "name": "firstname_lastname_p1.ipynb",
   "private_outputs": true,
   "provenance": [
    {
     "file_id": "https://github.com/MIDS-W207/Master/blob/master/Projects/firstname_lastname_p1.ipynb",
     "timestamp": 1557957807607
    }
   ],
   "version": "0.3.2"
  },
  "kernelspec": {
   "display_name": "Python 3",
   "language": "python",
   "name": "python3"
  },
  "language_info": {
   "codemirror_mode": {
    "name": "ipython",
    "version": 3
   },
   "file_extension": ".py",
   "mimetype": "text/x-python",
   "name": "python",
   "nbconvert_exporter": "python",
   "pygments_lexer": "ipython3",
   "version": "3.8.3"
  },
  "toc": {
   "base_numbering": 1,
   "nav_menu": {},
   "number_sections": false,
   "sideBar": true,
   "skip_h1_title": true,
   "title_cell": "Table of Contents",
   "title_sidebar": "Contents",
   "toc_cell": false,
   "toc_position": {},
   "toc_section_display": true,
   "toc_window_display": false
  }
 },
 "nbformat": 4,
 "nbformat_minor": 1
}
