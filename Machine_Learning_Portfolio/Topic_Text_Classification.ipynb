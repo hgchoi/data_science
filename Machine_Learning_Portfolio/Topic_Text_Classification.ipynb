{
 "cells": [
  {
   "cell_type": "markdown",
   "metadata": {
    "colab_type": "text",
    "id": "6t55qCf3Fsxa"
   },
   "source": [
    "# Topic Classification"
   ]
  },
  {
   "cell_type": "markdown",
   "metadata": {
    "colab_type": "text",
    "id": "j9-9G8z4Fsxd"
   },
   "source": [
    "In this project, I worked with text data from newsgroup posts on a variety of topics. I trained classifiers to distinguish posts by topics inferred from the text. Whereas with digit classification, where each input is relatively dense (represented as a 28x28 matrix of pixels, many of which are non-zero), here each document is relatively sparse (represented as a bag-of-words). Only a few words of the total vocabulary are active in any given document. The assumption is that a label depends only on the count of words, not their order.\n",
    "\n",
    "The `sklearn` documentation on feature extraction:\n",
    "http://scikit-learn.org/stable/modules/feature_extraction.html\n"
   ]
  },
  {
   "cell_type": "code",
   "execution_count": 1,
   "metadata": {},
   "outputs": [
    {
     "name": "stdout",
     "output_type": "stream",
     "text": [
      "Collecting package metadata (current_repodata.json): done\n",
      "Solving environment: done\n",
      "\n",
      "# All requested packages already installed.\n",
      "\n",
      "\n",
      "Note: you may need to restart the kernel to use updated packages.\n"
     ]
    }
   ],
   "source": [
    "conda update jupyter"
   ]
  },
  {
   "cell_type": "code",
   "execution_count": 12,
   "metadata": {
    "colab": {},
    "colab_type": "code",
    "id": "AUYW83LqFsxd"
   },
   "outputs": [],
   "source": [
    "# This tells matplotlib not to try opening a new window for each plot.\n",
    "%matplotlib inline\n",
    "\n",
    "# General libraries.\n",
    "import re\n",
    "import numpy as np\n",
    "import matplotlib.pyplot as plt\n",
    "import math\n",
    "\n",
    "# SK-learn libraries for learning.\n",
    "from sklearn.pipeline import Pipeline\n",
    "from sklearn.neighbors import KNeighborsClassifier\n",
    "from sklearn.linear_model import LogisticRegression\n",
    "from sklearn.naive_bayes import BernoulliNB\n",
    "from sklearn.naive_bayes import MultinomialNB\n",
    "from sklearn.feature_extraction.text import CountVectorizer\n",
    "from sklearn.feature_extraction.text import TfidfVectorizer\n",
    "\n",
    "# SK-learn libraries for evaluation.\n",
    "from sklearn.metrics import confusion_matrix\n",
    "from sklearn import metrics\n",
    "from sklearn.metrics import classification_report\n",
    "from sklearn.metrics import f1_score\n",
    "\n",
    "# SK-learn library for importing the newsgroup data.\n",
    "from sklearn.datasets import fetch_20newsgroups\n",
    "\n",
    "# SK-learn libraries for feature extraction from text.\n",
    "from sklearn.feature_extraction.text import *\n",
    "\n",
    "# Scipy library for matrix reformatting. \n",
    "from scipy.sparse import * \n",
    "\n",
    "#Natural language toolkit\n",
    "import nltk"
   ]
  },
  {
   "cell_type": "markdown",
   "metadata": {
    "colab_type": "text",
    "id": "_ALNjGgCFsxg"
   },
   "source": [
    "Load the data, stripping out metadata so that only textual features will be used, and restricting documents to 4 specific topics. By default, newsgroups data is split into training and test sets, but here the test set gets further split into development and test sets.  (If you remove the categories argument from the fetch function calls, you'd get documents from all 20 topics.)"
   ]
  },
  {
   "cell_type": "code",
   "execution_count": 3,
   "metadata": {
    "colab": {},
    "colab_type": "code",
    "id": "ecYpcoxaFsxh"
   },
   "outputs": [
    {
     "name": "stdout",
     "output_type": "stream",
     "text": [
      "training label shape: (2034,)\n",
      "dev label shape: (676,)\n",
      "test label shape: (677,)\n",
      "labels names: ['alt.atheism', 'comp.graphics', 'sci.space', 'talk.religion.misc']\n"
     ]
    }
   ],
   "source": [
    "#Categories of newsgroup posts\n",
    "categories = ['alt.atheism', 'talk.religion.misc', 'comp.graphics', 'sci.space']\n",
    "\n",
    "#Training data partition \n",
    "newsgroups_train = fetch_20newsgroups(subset='train',\n",
    "                                      remove=('headers', 'footers', 'quotes'),\n",
    "                                      categories=categories)\n",
    "\n",
    "#Test data partition \n",
    "newsgroups_test  = fetch_20newsgroups(subset='test',\n",
    "                                      remove=('headers', 'footers', 'quotes'),\n",
    "                                      categories=categories)\n",
    "\n",
    "num_test = int(len(newsgroups_test.target) / 2)\n",
    "test_data, test_labels   = newsgroups_test.data[num_test:], newsgroups_test.target[num_test:]\n",
    "dev_data, dev_labels     = newsgroups_test.data[:num_test], newsgroups_test.target[:num_test]\n",
    "train_data, train_labels = newsgroups_train.data, newsgroups_train.target\n",
    "\n",
    "print('training label shape:', train_labels.shape)\n",
    "print('dev label shape:',      dev_labels.shape)\n",
    "print('test label shape:',     test_labels.shape)\n",
    "print('labels names:',         newsgroups_train.target_names)"
   ]
  },
  {
   "cell_type": "markdown",
   "metadata": {
    "colab_type": "text",
    "id": "OHTnOke6Fsxk"
   },
   "source": [
    "### Part 1:\n",
    "\n",
    "For each of the first 5 training examples, print the text of the message along with the label."
   ]
  },
  {
   "cell_type": "code",
   "execution_count": 13,
   "metadata": {
    "colab": {},
    "colab_type": "code",
    "id": "X8zhA06xFsxl"
   },
   "outputs": [
    {
     "name": "stdout",
     "output_type": "stream",
     "text": [
      "\tText :\n",
      " Hi,\n",
      "\n",
      "I've noticed that if you only save a model (with all your mapping planes\n",
      "positioned carefully) to a .3DS file that when you reload it after restarting\n",
      "3DS, they are given a default position and orientation.  But if you save\n",
      "to a .PRJ file their positions/orientation are preserved.  Does anyone\n",
      "know why this information is not stored in the .3DS file?  Nothing is\n",
      "explicitly said in the manual about saving texture rules in the .PRJ file. \n",
      "I'd like to be able to read the texture rule information, does anyone have \n",
      "the format for the .PRJ file?\n",
      "\n",
      "Is the .CEL file format available from somewhere?\n",
      "\n",
      "Rych \tLabel : 1 comp.graphics\n",
      "\tText :\n",
      " \n",
      "\n",
      "Seems to be, barring evidence to the contrary, that Koresh was simply\n",
      "another deranged fanatic who thought it neccessary to take a whole bunch of\n",
      "folks with him, children and all, to satisfy his delusional mania. Jim\n",
      "Jones, circa 1993.\n",
      "\n",
      "\n",
      "Nope - fruitcakes like Koresh have been demonstrating such evil corruption\n",
      "for centuries. \tLabel : 3 talk.religion.misc\n",
      "\tText :\n",
      " \n",
      " >In article <1993Apr19.020359.26996@sq.sq.com>, msb@sq.sq.com (Mark Brader) \n",
      "\n",
      "MB>                                                             So the\n",
      "MB> 1970 figure seems unlikely to actually be anything but a perijove.\n",
      "\n",
      "JG>Sorry, _perijoves_...I'm not used to talking this language.\n",
      "\n",
      "Couldn't we just say periapsis or apoapsis?\n",
      "\n",
      "  \tLabel : 2 sci.space\n",
      "\tText :\n",
      " I have a request for those who would like to see Charley Wingate\n",
      "respond to the \"Charley Challenges\" (and judging from my e-mail, there\n",
      "appear to be quite a few of you.)  \n",
      "\n",
      "It is clear that Mr. Wingate intends to continue to post tangential or\n",
      "unrelated articles while ingoring the Challenges themselves.  Between\n",
      "the last two re-postings of the Challenges, I noted perhaps a dozen or\n",
      "more posts by Mr. Wingate, none of which answered a single Challenge.  \n",
      "\n",
      "It seems unmistakable to me that Mr. Wingate hopes that the questions\n",
      "will just go away, and he is doing his level best to change the\n",
      "subject.  Given that this seems a rather common net.theist tactic, I\n",
      "would like to suggest that we impress upon him our desire for answers,\n",
      "in the following manner:\n",
      "\n",
      "1. Ignore any future articles by Mr. Wingate that do not address the\n",
      "Challenges, until he answers them or explictly announces that he\n",
      "refuses to do so.\n",
      "\n",
      "--or--\n",
      "\n",
      "2. If you must respond to one of his articles, include within it\n",
      "something similar to the following:\n",
      "\n",
      "    \"Please answer the questions posed to you in the Charley Challenges.\"\n",
      "\n",
      "Really, I'm not looking to humiliate anyone here, I just want some\n",
      "honest answers.  You wouldn't think that honesty would be too much to\n",
      "ask from a devout Christian, would you?  \n",
      "\n",
      "Nevermind, that was a rhetorical question. \tLabel : 0 alt.atheism\n",
      "\tText :\n",
      " AW&ST  had a brief blurb on a Manned Lunar Exploration confernce\n",
      "May 7th  at Crystal City Virginia, under the auspices of AIAA.\n",
      "\n",
      "Does anyone know more about this?  How much, to attend????\n",
      "\n",
      "Anyone want to go? \tLabel : 2 sci.space\n"
     ]
    }
   ],
   "source": [
    "def P1(num_examples=5):\n",
    "    #for loop running through training set, print first 5 messsages \n",
    "    for i in range(num_examples):\n",
    "        print(\"\\tText :\\n\", train_data[i], \"\\tLabel :\", train_labels[i], newsgroups_train.target_names[train_labels[i]])\n",
    "                   \n",
    "P1(5)"
   ]
  },
  {
   "cell_type": "markdown",
   "metadata": {
    "colab_type": "text",
    "id": "onfno6uHFsxm"
   },
   "source": [
    "### Part 2:\n",
    "\n",
    "Transform the training data into a matrix of **word** unigram feature vectors.  What is the size of the vocabulary? What is the average number of non-zero features per example?  What is the fraction of the non-zero entries in the matrix?  What are the 0th and last feature strings (in alphabetical order)?<br/>\n",
    "_Use `CountVectorization` and its `.fit_transform` method.  Use `.nnz` and `.shape` attributes, and `.get_feature_names` method._\n",
    "\n",
    "Now transform the training data into a matrix of **word** unigram feature vectors using your own vocabulary with these 4 words: [\"atheism\", \"graphics\", \"space\", \"religion\"].  Confirm the size of the vocabulary. What is the average number of non-zero features per example?<br/>\n",
    "_Use `CountVectorization(vocabulary=...)` and its `.transform` method._\n",
    "\n",
    "Now transform the training data into a matrix of **character** bigram and trigram feature vectors.  What is the size of the vocabulary?<br/>\n",
    "_Use `CountVectorization(analyzer=..., ngram_range=...)` and its `.fit_transform` method._\n",
    "\n",
    "Now transform the training data into a matrix of **word** unigram feature vectors and prune words that appear in fewer than 10 documents.  What is the size of the vocabulary?<br/>\n",
    "_Use `CountVectorization(min_df=...)` and its `.fit_transform` method._\n",
    "\n",
    "Now again transform the training data into a matrix of **word** unigram feature vectors. What is the fraction of words in the development vocabulary that is missing from the training vocabulary?<br/>\n",
    "_Hint: Build vocabularies for both train and dev and look at the size of the difference._\n",
    "\n",
    "Notes:\n",
    "* `.fit_transform` makes 2 passes through the data: first it computes the vocabulary (\"fit\"), second it converts the raw text into feature vectors using the vocabulary (\"transform\").\n",
    "* `.fit_transform` and `.transform` return sparse matrix objects.  See about them at http://docs.scipy.org/doc/scipy-0.14.0/reference/generated/scipy.sparse.csr_matrix.html.  "
   ]
  },
  {
   "cell_type": "code",
   "execution_count": 5,
   "metadata": {
    "colab": {},
    "colab_type": "code",
    "id": "LyVwk5RvFsxn"
   },
   "outputs": [
    {
     "name": "stdout",
     "output_type": "stream",
     "text": [
      "1)\n",
      "Size of vocabulary : 26879\n",
      "Number of nonzero features : 196700\n",
      "Average number of nonzero features per example : 96.70599803343165\n",
      "Fraction (%) of nonzero features : 0.3597827226959026\n",
      "0th and last feature strings : 00 zyxel\n",
      "2)\n",
      "Size of vocabulary 4_word: 4\n",
      "Average number of nonzero features per example : 0.26843657817109146\n",
      "3)\n",
      "Size of vocabulary character bigram : 3291\n",
      "Size of vocabulary character trigram : 32187\n",
      "4)\n",
      "Size of vocabulary unigram <10 documents: 3064\n",
      "5)\n",
      "Size of vocabulary unigram dev data : 16246\n",
      "Size of vocabulary unigram train data : 26879\n",
      "Fraction of words in the development vocabulary that is missing from the training vocabulary : 0.395587633468507\n"
     ]
    }
   ],
   "source": [
    "def P2():\n",
    "    \n",
    "    #Word unigram feature vectors - vocabulary size\n",
    "    vectorizer = CountVectorizer()\n",
    "    vtrain = vectorizer.fit_transform(train_data).toarray()\n",
    "    feature_names = vectorizer.get_feature_names()\n",
    "    \n",
    "    num_features = len(vectorizer.get_feature_names())\n",
    "    vtrain_matrix = csr_matrix(vtrain)\n",
    "    num_nonzero = vtrain_matrix.nnz\n",
    "    num_values = vtrain_matrix.shape\n",
    "    print(\"1)\")\n",
    "    print(\"Size of vocabulary :\", num_features)\n",
    "    print(\"Number of nonzero features :\", num_nonzero)\n",
    "    print(\"Average number of nonzero features per example :\", num_nonzero/2034)\n",
    "    print(\"Fraction (%) of nonzero features :\", (100*num_nonzero)/(num_values[0]*num_values[1]))\n",
    "    print(\"0th and last feature strings :\", feature_names[0], feature_names[-1])\n",
    "    \n",
    "    \n",
    "    #Word unigram feature vectors - 4 word vocabulary\n",
    "    own_vectorizer = CountVectorizer(vocabulary = [\"atheism\", \"graphics\", \"space\", \"religion\"])\n",
    "    vtrain_own = own_vectorizer.transform(train_data).toarray()\n",
    "    num_features_own = len(own_vectorizer.get_feature_names())\n",
    "    vtrain_own_matrix = csr_matrix(vtrain_own)\n",
    "    num_nonzero_own = vtrain_own_matrix.nnz\n",
    "    num_values_own = vtrain_own_matrix.shape\n",
    "    \n",
    "    print(\"2)\")\n",
    "    print(\"Size of vocabulary 4_word:\", num_features_own)\n",
    "    print(\"Average number of nonzero features per example :\", num_nonzero_own/len(train_data))\n",
    "    \n",
    "    #Character bigram feature vector\n",
    "    vectorizer_bg = CountVectorizer(analyzer = 'char', ngram_range = (2,2))\n",
    "    vtrain_bg = vectorizer_bg.fit_transform(train_data).toarray()\n",
    "    feature_names_bg = vectorizer_bg.get_feature_names()\n",
    "    num_features_bg = len(vectorizer_bg.get_feature_names())\n",
    "    vtrain_bg_matrix = csr_matrix(vtrain_bg)\n",
    "    \n",
    "    print(\"3)\")\n",
    "    print(\"Size of vocabulary character bigram :\", num_features_bg)\n",
    "    \n",
    "    #Character trigram feature vector \n",
    "    vectorizer_tg = CountVectorizer(analyzer = 'char', ngram_range = (3,3))\n",
    "    vtrain_tg = vectorizer_tg.fit_transform(train_data).toarray()\n",
    "    feature_names_tg = vectorizer_tg.get_feature_names()\n",
    "    num_features_tg = len(vectorizer_tg.get_feature_names())\n",
    "    vtrain_tg_matrix = csr_matrix(vtrain_tg)\n",
    "    \n",
    "    print(\"Size of vocabulary character trigram :\", num_features_tg)\n",
    "    \n",
    "    \n",
    "    #Word unigram feature vectors < 10 documents\n",
    "    vectorizer_10 = CountVectorizer(min_df = 10)\n",
    "    vtrain_10 = vectorizer_10.fit_transform(train_data).toarray()\n",
    "    feature_names_10 = vectorizer_10.get_feature_names()\n",
    "    num_features_10 = len(vectorizer_10.get_feature_names())\n",
    "    vtrain_matrix_10 = csr_matrix(vtrain_10)\n",
    "\n",
    "    print(\"4)\")\n",
    "    print(\"Size of vocabulary unigram <10 documents:\", num_features_10)\n",
    "    \n",
    "    #Word unigram feature vectors - dev_data  \n",
    "    vectorizer_dev = CountVectorizer()\n",
    "    vdev = vectorizer_dev.fit_transform(dev_data).toarray()\n",
    "    feature_names_dev = vectorizer_dev.get_feature_names()\n",
    "    num_features_dev = len(vectorizer_dev.get_feature_names())\n",
    "    vdev_matrix = csr_matrix(vdev)\n",
    "    print(\"5)\")\n",
    "    print(\"Size of vocabulary unigram dev data :\", num_features_dev)\n",
    "    \n",
    "    #Word unigram feature vectors - train_data  \n",
    "    vectorizer_train = CountVectorizer()\n",
    "    vtrain = vectorizer_train.fit_transform(train_data).toarray()\n",
    "    feature_names_train = vectorizer_train.get_feature_names()\n",
    "    num_features_train = len(vectorizer_train.get_feature_names())\n",
    "    vtrain_matrix = csr_matrix(vtrain)\n",
    "\n",
    "    print(\"Size of vocabulary unigram train data :\", num_features_train)\n",
    "    print(\"Fraction of words in the development vocabulary that is missing from the training vocabulary :\", (26879-16246)/26879)\n",
    "\n",
    "P2()"
   ]
  },
  {
   "cell_type": "markdown",
   "metadata": {
    "colab_type": "text",
    "id": "ydjkRh6LFsxp"
   },
   "source": [
    "### Part 3:\n",
    "\n",
    "Transform the training and development data to matrices of word unigram feature vectors.\n",
    "\n",
    "1. Produce several k-Nearest Neigbors models by varying k, including one with k set to optimize f1 score.  For each model, show the k value and f1 score.\n",
    "1. Produce several Naive Bayes models by varying smoothing (alpha), including one with alpha set approximately to optimize f1 score.  For each model, show the alpha value and f1 score.\n",
    "1. Produce several Logistic Regression models by varying L2 regularization strength (C), including one with C set approximately to optimize f1 score.  For each model, show the C value, f1 score, and sum of squared weights for each topic.\n",
    "\n",
    "* Why doesn't k-Nearest Neighbors work well for this problem?\n",
    "* Why doesn't Logistic Regression work as well as Naive Bayes does?\n",
    "* What is the relationship between logistic regression's sum of squared weights vs. C value?\n",
    "\n",
    "Notes:\n",
    "* Train on the transformed training data.\n",
    "* Evaluate on the transformed development data.\n",
    "* You can use `CountVectorizer` and its `.fit_transform` and `.transform` methods to transform data.\n",
    "* You can use `KNeighborsClassifier(...)` to produce a k-Nearest Neighbors model.\n",
    "* You can use `MultinomialNB(...)` to produce a Naive Bayes model.\n",
    "* You can use `LogisticRegression(C=..., solver=\"liblinear\", multi_class=\"auto\")` to produce a Logistic Regression model.\n",
    "* You can use `LogisticRegression`'s `.coef_` method to get weights for each topic.\n",
    "* You can use `metrics.f1_score(..., average=\"weighted\")` to compute f1 score."
   ]
  },
  {
   "cell_type": "code",
   "execution_count": 6,
   "metadata": {
    "colab": {},
    "colab_type": "code",
    "id": "VvhpODdWFsxp"
   },
   "outputs": [
    {
     "name": "stdout",
     "output_type": "stream",
     "text": [
      "KNN f1 scores : 0.39471048126424524\n",
      "KNN f1 scores : 0.4004065422038378\n",
      "KNN f1 scores : 0.4230384271439681\n",
      "KNN f1 scores : 0.44061615064622817\n",
      "KNN f1 scores : 0.44283938039620135\n",
      "KNN f1 scores : 0.45790890012489927\n",
      "KNN f1 scores : 0.46603879404544657\n",
      "KNN f1 scores : 0.4514171340577236\n",
      "KNN f1 scores : 0.45574370029982564\n",
      "KNN f1 scores : 0.4444765532323276\n",
      "KNN f1 scores : 0.434233473713461\n"
     ]
    },
    {
     "data": {
      "image/png": "[encoded data removed]",
      "text/plain": [
       "<Figure size 432x288 with 1 Axes>"
      ]
     },
     "metadata": {
      "needs_background": "light"
     },
     "output_type": "display_data"
    },
    {
     "name": "stdout",
     "output_type": "stream",
     "text": [
      "Optimal f1 score : 0.46603879404544657\n",
      "k value : 7\n",
      "Multinomial NB f1 scores : 0.7903052385098862\n",
      "Multinomial NB f1 scores : 0.7876298330892171\n",
      "Multinomial NB f1 scores : 0.787644978407044\n",
      "Multinomial NB f1 scores : 0.7878811683059115\n",
      "Multinomial NB f1 scores : 0.7862862961995258\n",
      "Multinomial NB f1 scores : 0.7860752087513914\n",
      "Multinomial NB f1 scores : 0.7847459594060138\n",
      "Multinomial NB f1 scores : 0.7845011169448908\n",
      "Multinomial NB f1 scores : 0.7810859843567709\n",
      "Multinomial NB f1 scores : 0.7777320236017224\n"
     ]
    },
    {
     "data": {
      "image/png": "[encoded data removed]",
      "text/plain": [
       "<Figure size 432x288 with 1 Axes>"
      ]
     },
     "metadata": {
      "needs_background": "light"
     },
     "output_type": "display_data"
    },
    {
     "name": "stdout",
     "output_type": "stream",
     "text": [
      "Optimal f1 score : 0.7903052385098862\n",
      "alpha value : 0.1\n",
      "Logistic regression f1 scores : 0.6966243542418833\n",
      "Sum of squared weights : 102.28104455559837\n",
      "Logistic regression f1 scores : 0.7058733693981117\n",
      "Sum of squared weights : 184.48957265731505\n",
      "Logistic regression f1 scores : 0.7100848889111422\n",
      "Sum of squared weights : 254.835902795337\n",
      "Logistic regression f1 scores : 0.7082817352512133\n",
      "Sum of squared weights : 317.1831547958203\n",
      "Logistic regression f1 scores : 0.7084739776490449\n",
      "Sum of squared weights : 373.6565299365672\n",
      "Logistic regression f1 scores : 0.7091615339971832\n",
      "Sum of squared weights : 425.6852528810159\n",
      "Logistic regression f1 scores : 0.6955933920829318\n",
      "Sum of squared weights : 473.8321527654277\n",
      "Logistic regression f1 scores : 0.6924667174169086\n",
      "Sum of squared weights : 518.9388429463122\n",
      "Logistic regression f1 scores : 0.694281290097654\n",
      "Sum of squared weights : 561.3867406989307\n",
      "Logistic regression f1 scores : 0.6944172871853819\n",
      "Sum of squared weights : 601.5893248242392\n"
     ]
    },
    {
     "data": {
      "image/png": "[encoded data removed]",
      "text/plain": [
       "<Figure size 432x288 with 1 Axes>"
      ]
     },
     "metadata": {
      "needs_background": "light"
     },
     "output_type": "display_data"
    },
    {
     "name": "stdout",
     "output_type": "stream",
     "text": [
      "Optimal f1 score : 0.7100848889111422\n",
      "C value : 0.3\n"
     ]
    },
    {
     "data": {
      "image/png": "[encoded data removed]",
      "text/plain": [
       "<Figure size 432x288 with 1 Axes>"
      ]
     },
     "metadata": {
      "needs_background": "light"
     },
     "output_type": "display_data"
    }
   ],
   "source": [
    "def P3():\n",
    "    #Q1\n",
    "    #Transform the training and development data to matrices of word unigram feature vectors\n",
    "    #Word unigram feature vectors  \n",
    "    vectorizer = CountVectorizer()\n",
    "\n",
    "    #Word unigram feature vectors - train_data and dev_data   \n",
    "    vtrain = vectorizer.fit_transform(train_data).toarray()\n",
    "    vdev = vectorizer.transform(dev_data).toarray()\n",
    "\n",
    "    #Varying k values\n",
    "    k_values = np.arange(1, 12)\n",
    "\n",
    "    #k-nearest neighbor models \n",
    "    def knn(k_values):\n",
    "\n",
    "        for i in k_values:\n",
    "            #Create k-nearest neighbor model \n",
    "            knn_model = KNeighborsClassifier(n_neighbors = i)\n",
    "            #Train on transformed train data  \n",
    "            knn_model.fit(vtrain, train_labels)\n",
    "            #Evaluate performance on transformed train data\n",
    "            knn_predict = knn_model.predict(vdev)\n",
    "            #Get f1 results \n",
    "            print('KNN f1 scores :', metrics.f1_score(y_true = dev_labels, y_pred = knn_predict, average=\"weighted\"))\n",
    "\n",
    "    knn(k_values)\n",
    "    \n",
    "    #Plot of k values and f1 scores\n",
    "    plt.plot([ 1,  2,  3,  4,  5,  6,  7,  8,  9, 10, 11], [0.39471048126424524, 0.4004065422038378, 0.4230384271439681, 0.44061615064622817, 0.44283938039620135, 0.45790890012489927, 0.46603879404544657, 0.4514171340577236, 0.45574370029982564, 0.4444765532323276, 0.434233473713461])\n",
    "    plt.xlabel('k value')\n",
    "    plt.ylabel('f1 score')\n",
    "    plt.suptitle('Optimal f1 score based on k value')\n",
    "    plt.show()\n",
    "\n",
    "    print('Optimal f1 score :', 0.46603879404544657)\n",
    "    print('k value :', 7)\n",
    "    \n",
    "    \n",
    "    #Q2\n",
    "    #Varying alpha values\n",
    "    thresholds = np.arange(0.1, 1.1, 0.1)\n",
    "\n",
    "    #MultinomialNB Model\n",
    "    def mnb(thresholds):\n",
    "\n",
    "        for i in thresholds:\n",
    "            #Create multinomialnb model \n",
    "            mnb_model = MultinomialNB(alpha = i)\n",
    "            #Train on transformed train data  \n",
    "            mnb_model.fit(vtrain, train_labels)\n",
    "            #Evaluate performance on transformed train data\n",
    "            mnb_predict = mnb_model.predict(vdev)\n",
    "            #Get f1 results \n",
    "            print('Multinomial NB f1 scores :', metrics.f1_score(y_true = dev_labels, y_pred = mnb_predict, average=\"weighted\"))\n",
    "\n",
    "    mnb(thresholds)\n",
    "    \n",
    "    #Plot of alpha values and f1 scores\n",
    "    plt.plot([ 0.1, 0.2, 0.3, 0.4, 0.5, 0.6, 0.7, 0.8, 0.9, 1.0], [0.7903052385098862, 0.7876298330892171, 0.787644978407044, 0.7878811683059115, 0.7862862961995258, 0.7860752087513914, 0.7847459594060138, 0.7845011169448908, 0.7810859843567709, 0.7777320236017224])\n",
    "    plt.xlabel('alpha value')\n",
    "    plt.ylabel('f1 score')\n",
    "    plt.suptitle('Optimal f1 score based on alpha value')\n",
    "    plt.show()\n",
    "\n",
    "    print('Optimal f1 score :', 0.7903052385098862)\n",
    "    print('alpha value :', 0.1)\n",
    "    \n",
    "    \n",
    "    #Q3\n",
    "    #Varying C values\n",
    "    L2_strength = np.arange(0.1, 1.0, 0.1)\n",
    "\n",
    "    #Logistic Regression Model\n",
    "    def logreg(L2_strength):\n",
    "\n",
    "        for i in thresholds:\n",
    "            #Create logistic regression model \n",
    "            logreg_model = LogisticRegression(C=i, solver=\"liblinear\", multi_class=\"auto\")\n",
    "            #Train on transformed train data  \n",
    "            logreg_model.fit(vtrain, train_labels)\n",
    "            #Evaluate performance on transformed train data\n",
    "            logreg_predict = logreg_model.predict(vdev)\n",
    "            #Get f1 results \n",
    "            print('Logistic regression f1 scores :', metrics.f1_score(y_true = dev_labels, y_pred = logreg_predict, average=\"weighted\"))\n",
    "            #Sum of squared weights for each topic\n",
    "            squared_weights = (logreg_model.coef_) ** 2\n",
    "            print('Sum of squared weights :' , np.sum(squared_weights))\n",
    "        \n",
    "    logreg(L2_strength)\n",
    "    \n",
    "     \n",
    "    #Plot of C values and f1 scores\n",
    "    plt.plot([ 0.1, 0.2, 0.3, 0.4, 0.5, 0.6, 0.7, 0.8, 0.9, 1.0], [0.6966243542418833, 0.7058733693981117, 0.7100848889111422, 0.7082817352512133, 0.7084739776490449, 0.7091615339971832, 0.6955933920829318, 0.6924667174169086, 0.694281290097654, 0.6944172871853819])\n",
    "    plt.xlabel('C value')\n",
    "    plt.ylabel('f1 score')\n",
    "    plt.suptitle('Optimal f1 score based on C value')\n",
    "    plt.show()\n",
    "\n",
    "    print('Optimal f1 score :', 0.7100848889111422)\n",
    "    print('C value :', 0.3)\n",
    "    \n",
    "    \n",
    "    #Plot of C values and sum squared weights \n",
    "    plt.plot([0.1, 0.2, 0.3, 0.4, 0.5, 0.6, 0.7, 0.8, 0.9, 1.0], [102.28104455559837, 184.48957265731505, 254.835902795337, 317.1831547958203, 373.6565299365672, 425.6852528810159, 473.8321527654277, 518.9388429463122, 561.3867406989307, 601.5893248242392])\n",
    "    plt.xlabel('C value')\n",
    "    plt.ylabel('Sum squared weights')\n",
    "    plt.suptitle('C value vs Sum squared weights')\n",
    "    plt.show()\n",
    "P3()"
   ]
  },
  {
   "cell_type": "markdown",
   "metadata": {
    "colab_type": "text",
    "id": "jWtXwAlOFsxr"
   },
   "source": [
    "ANSWER:\n",
    "\n",
    "4) Since KNN models are made based only on similarity between features, the difference in weights of each feature are not represented. Some words in our training set are common and therefore repeated in multiple topics, but they will not necessarily be associated with the right topics due to the equal weighting of each feature. This causes a higher rate of error than is desirable.\n",
    "\n",
    "5) The Naive Bayes model computes the probability of a given feature being associated with a specific label under the assumption that each of the features are independent, which is not always the case. The Logistic Regression model learns the probability of a sample belonging to a certain class and identifies the optimal decision boundary that best separates the classes. The Logistic Regression model doesn't work as well as Naive Bayes in this case since we have so many features but not nearly as many training examples to compare them to, making the Logistic Regression model's ability to draw an optimal decision boundary between classes less accurate. \n",
    "\n",
    "6) L2 regularization strength (C) and logistic regression's sum of squared weights have a positive relationship (as C value increases, the logistic regression's sum of squared weights increase). "
   ]
  },
  {
   "cell_type": "markdown",
   "metadata": {
    "colab_type": "text",
    "id": "dGEjsm_uFsxr"
   },
   "source": [
    "### Part 4:\n",
    "\n",
    "Transform the data to a matrix of word **bigram** feature vectors.  Produce a Logistic Regression model.  For each topic, find the 5 features with the largest weights (that's 20 features in total). \n",
    "\n",
    "Notes:\n",
    "* Train on the transformed training data.\n",
    "* You can use `CountVectorizer` and its `.fit_transform` method to transform data.\n",
    "* You can use `LogisticRegression(C=0.5, solver=\"liblinear\", multi_class=\"auto\")` to produce a Logistic Regression model.\n",
    "* You can use `LogisticRegression`'s `.coef_` method to get weights for each topic.\n",
    "* You can use `np.argsort` to get indices sorted by element value. "
   ]
  },
  {
   "cell_type": "code",
   "execution_count": 7,
   "metadata": {},
   "outputs": [
    {
     "name": "stdout",
     "output_type": "stream",
     "text": [
      "[ 38326  37174 184771 193317  20596  98723  81950  40451 123709  88596\n",
      " 167336 165984 145068  16732  90070 164806  37174  80535  32640 116318]\n"
     ]
    }
   ],
   "source": [
    "#Indices of largest weights: returns an array of indices of the same shape as a that index data along the given axis in partitioned order.\n",
    "\n",
    "\n",
    "def P4():\n",
    "    ### STUDENT START ###\n",
    "    #Transform to word bigram feature vector\n",
    "    vectorizer_wordbg = CountVectorizer(analyzer = 'word', ngram_range = (2,2))\n",
    "    vtrain_4 = vectorizer_wordbg.fit_transform(train_data).toarray()\n",
    "\n",
    "    #Create Logistic Regression model\n",
    "    logreg_4 = LogisticRegression(C=0.5, solver=\"liblinear\", multi_class=\"auto\")\n",
    "    logreg_4.fit(vtrain_4, train_labels)\n",
    "    weights_4 = logreg_4.coef_\n",
    "    #Indices of 5 features with largest weights for each topic\n",
    "    features_5 = np.argpartition(weights_4, -5)[:, -5:]\n",
    "    #Order 5 features \n",
    "    for i in range(4):\n",
    "        features_5[i,:] = features_5[i, np.argsort(np.take(weights_4[i,:], features_5[i,:]))[::-1]]\n",
    "    features_5 = features_5.flatten()\n",
    "    print(features_5)\n",
    "    #Weights at each index for all topics\n",
    "    matrix = np.column_stack((np.take(weights_4[0], features_5),\n",
    "                              np.take(weights_4[1], features_5),\n",
    "                              np.take(weights_4[2], features_5),\n",
    "                              np.take(weights_4[3], features_5)))\n",
    "    \n",
    "P4()"
   ]
  },
  {
   "cell_type": "markdown",
   "metadata": {
    "colab_type": "text",
    "id": "rVWhSJHHFsxu"
   },
   "source": [
    "### Part 5:\n",
    "\n",
    "To improve generalization, it is common to try preprocessing text in various ways before splitting into words. For example, you could try transforming strings to lower case, replacing sequences of numbers with single tokens, removing various non-letter characters, and shortening long words.\n",
    "\n",
    "Produce a Logistic Regression model (with no preprocessing of text).  Evaluate and show its f1 score and size of the dictionary.\n",
    "\n",
    "Produce an improved Logistic Regression model by preprocessing the text.  Evaluate and show its f1 score and size of the vocabulary.  Try for an improvement in f1 score of at least 0.02.\n",
    "\n",
    "How much did the improved model reduce the vocabulary size?\n",
    "\n",
    "Notes:\n",
    "* Train on the transformed training data.\n",
    "* Evaluate on the transformed development data.\n",
    "* You can use `CountVectorizer(preprocessor=...)` to preprocess strings with your own custom-defined function.\n",
    "* `CountVectorizer` default is to preprocess strings to lower case.\n",
    "* You can use `LogisticRegression(C=0.5, solver=\"liblinear\", multi_class=\"auto\")` to produce a logistic regression model.\n",
    "* You can use `metrics.f1_score(..., average=\"weighted\")` to compute f1 score.\n",
    "* If you're not already familiar with regular expressions for manipulating strings, see https://docs.python.org/2/library/re.html, and re.sub() in particular."
   ]
  },
  {
   "cell_type": "code",
   "execution_count": 8,
   "metadata": {
    "colab": {},
    "colab_type": "code",
    "id": "l7gS3cGpFsxv"
   },
   "outputs": [
    {
     "name": "stdout",
     "output_type": "stream",
     "text": [
      "Logistic regression f1 score before preprocessing : 0.7069109185493502\n",
      "Size of dictionary before preprocessing : 33291\n",
      "Logistic regression f1 score after preprocessing : 0.7167004086618144\n",
      "Size of dictionary after preprocessing : 14592\n"
     ]
    }
   ],
   "source": [
    "def better_preprocessor(s):\n",
    "   \n",
    "    #Transform strings to lower case\n",
    "    s = s.lower()\n",
    "\n",
    "    #Replace sequences of numbers with single tokens\n",
    "    s = re.sub(\"([\\d]+)\", \" number \", s)\n",
    "    \n",
    "    #Remove various non-letter characters\n",
    "    s = re.sub(\"\\\\W\",\" \",s) # remove special chars\n",
    "    \n",
    "    #Shorten long words\n",
    "    s = re.sub(\"(\\w{%d})\\w+\" % 5, \"\\\\1\", s)\n",
    "    \n",
    "    return s\n",
    "    \n",
    "def no_preprocessor(s):\n",
    "    return s\n",
    "\n",
    "def P5():\n",
    "    #Feature vectors \n",
    "    vectorizer = CountVectorizer(preprocessor = no_preprocessor)\n",
    "\n",
    "    #Feature vectors - train_data and dev_data   \n",
    "    vtrain = vectorizer.fit_transform(train_data).toarray()\n",
    "    vdev = vectorizer.transform(dev_data).toarray()\n",
    "\n",
    "    #Logistic Regression model - no preprocessing\n",
    "    logreg_model = LogisticRegression(C=0.5, solver=\"liblinear\", multi_class=\"auto\")\n",
    "    #Train on transformed train data  \n",
    "    logreg_model.fit(vtrain, train_labels)\n",
    "    #Evaluate performance on transformed train data\n",
    "    logreg_predict = logreg_model.predict(vdev)\n",
    "    #Get f1 results \n",
    "    print('Logistic regression f1 score before preprocessing :', metrics.f1_score(y_true = dev_labels, y_pred = logreg_predict, average=\"weighted\"))\n",
    "    print('Size of dictionary before preprocessing :', vtrain.shape[1])\n",
    "    \n",
    "    \n",
    "    #After preprocessing\n",
    "    vectorizer_p = CountVectorizer(preprocessor = better_preprocessor)\n",
    "    vtrain_p = vectorizer_p.fit_transform(train_data).toarray()\n",
    "    vdev_p = vectorizer_p.transform(dev_data).toarray()\n",
    "\n",
    "    #Logistic Regression model - after preprocessing\n",
    "    logreg_model_p = LogisticRegression(C=0.5, solver=\"liblinear\", multi_class=\"auto\")\n",
    "    #Train on transformed train data  \n",
    "    logreg_model_p.fit(vtrain_p, train_labels)\n",
    "    #Evaluate performance on transformed train data\n",
    "    logreg_predict_p = logreg_model_p.predict(vdev_p)\n",
    "    #Get f1 results \n",
    "    print('Logistic regression f1 score after preprocessing :', metrics.f1_score(y_true = dev_labels, y_pred = logreg_predict_p, average=\"weighted\"))\n",
    "    print('Size of dictionary after preprocessing :', vtrain_p.shape[1])\n",
    "\n",
    "\n",
    "P5()"
   ]
  },
  {
   "cell_type": "markdown",
   "metadata": {},
   "source": [
    "ANSWER: The improved model decreased the vocabulary size by 18699 words, roughly 56% decrease."
   ]
  },
  {
   "cell_type": "markdown",
   "metadata": {
    "colab_type": "text",
    "id": "Uy-WITbNFsxw"
   },
   "source": [
    "### Part 6:\n",
    "\n",
    "The idea of regularization is to avoid learning very large weights (which are likely to fit the training data, but not generalize well) by adding a penalty to the total size of the learned weights. Logistic regression seeks the set of weights that minimizes errors in the training data AND has a small total size. The default L2 regularization computes this size as the sum of the squared weights (as in Part 3 above). L1 regularization computes this size as the sum of the absolute values of the weights. Whereas L2 regularization makes all the weights relatively small, L1 regularization drives many of the weights to 0, effectively removing unimportant features.\n",
    "\n",
    "For several L1 regularization strengths ...<br/>\n",
    "* Produce a Logistic Regression model using the **L1** regularization strength.  Reduce the vocabulary to only those features that have at least one non-zero weight among the four categories.  Produce a new Logistic Regression model using the reduced vocabulary and **L2** regularization strength of 0.5.  Evaluate and show the L1 regularization strength, vocabulary size, and f1 score associated with the new model.\n",
    "\n",
    "Show a plot of f1 score vs. log vocabulary size.  Each point corresponds to a specific L1 regularization strength used to reduce the vocabulary.\n",
    "\n",
    "How does performance of the models based on reduced vocabularies compare to that of a model based on the full vocabulary?\n",
    "\n",
    "Notes:\n",
    "* Train on the transformed training data.\n",
    "* Evaluate on the transformed development data.\n",
    "* You can use `LogisticRegression(..., penalty=\"l1\")` to produce a logistic regression model using L1 regularization.\n",
    "* You can use `LogisticRegression(..., penalty=\"l2\")` to produce a logistic regression model using L2 regularization.\n",
    "* You can use `LogisticRegression(..., tol=0.015)` to produce a logistic regression model using relaxed gradient descent convergence criteria.  The gradient descent code that trains the logistic regression model sometimes has trouble converging with extreme settings of the C parameter. Relax the convergence criteria by setting tol=.015 (the default is .0001)."
   ]
  },
  {
   "cell_type": "code",
   "execution_count": 9,
   "metadata": {},
   "outputs": [],
   "source": [
    "# Notes\n",
    "# set(coef.nonzero()[0]) to find indices of features/words with non zero weights and then limit the vocab to these indices. coef is transpose of model.coef_. Then CountVectorizer(vocabulary=this_limited_vocabulary)"
   ]
  },
  {
   "cell_type": "code",
   "execution_count": 10,
   "metadata": {
    "colab": {},
    "colab_type": "code",
    "id": "l6ho31SrFsxx"
   },
   "outputs": [
    {
     "name": "stdout",
     "output_type": "stream",
     "text": [
      "L1 regularization strength : 0.0005\n",
      "Old logistic regression model f1 score :  0.18419161809850068\n",
      "New logistic regression model f1 score :  0.22971579702348932\n",
      "Size of vocabulary : 1\n",
      "L1 regularization strength : 0.001\n",
      "Old logistic regression model f1 score :  0.24492835290439324\n",
      "New logistic regression model f1 score :  0.33356858531863487\n",
      "Size of vocabulary : 3\n",
      "L1 regularization strength : 0.005\n",
      "Old logistic regression model f1 score :  0.3865725080216888\n",
      "New logistic regression model f1 score :  0.43221291386913857\n",
      "Size of vocabulary : 12\n",
      "L1 regularization strength : 0.01\n",
      "Old logistic regression model f1 score :  0.4236482749157316\n",
      "New logistic regression model f1 score :  0.4678284761184072\n",
      "Size of vocabulary : 17\n",
      "L1 regularization strength : 0.05\n",
      "Old logistic regression model f1 score :  0.5815618895004901\n",
      "New logistic regression model f1 score :  0.6421575348073696\n",
      "Size of vocabulary : 124\n",
      "L1 regularization strength : 0.1\n",
      "Old logistic regression model f1 score :  0.6445244877771987\n",
      "New logistic regression model f1 score :  0.6922752960669616\n",
      "Size of vocabulary : 212\n",
      "L1 regularization strength : 0.5\n",
      "Old logistic regression model f1 score :  0.6880155604780167\n",
      "New logistic regression model f1 score :  0.6593209182604232\n",
      "Size of vocabulary : 746\n",
      "L1 regularization strength : 1\n",
      "Old logistic regression model f1 score :  0.6890408450233154\n",
      "New logistic regression model f1 score :  0.6814193753726073\n",
      "Size of vocabulary : 1169\n",
      "L1 regularization strength : 2\n",
      "Old logistic regression model f1 score :  0.676945238657686\n",
      "New logistic regression model f1 score :  0.6886526407072935\n",
      "Size of vocabulary : 1632\n",
      "L1 regularization strength : 5\n",
      "Old logistic regression model f1 score :  0.6646234455952066\n",
      "New logistic regression model f1 score :  0.7009542911060238\n",
      "Size of vocabulary : 2697\n",
      "L1 regularization strength : 10\n",
      "Old logistic regression model f1 score :  0.6742958390029451\n",
      "New logistic regression model f1 score :  0.6950533594619739\n",
      "Size of vocabulary : 3053\n"
     ]
    },
    {
     "data": {
      "image/png": "[encoded data removed]",
      "text/plain": [
       "<Figure size 432x288 with 1 Axes>"
      ]
     },
     "metadata": {
      "needs_background": "light"
     },
     "output_type": "display_data"
    }
   ],
   "source": [
    "def P6():\n",
    "    # Keep this random seed here to make comparison easier.\n",
    "    np.random.seed(0)\n",
    "    \n",
    "    #Different values of C\n",
    "    c_values = [0.0005, 0.001, 0.005, 0.01, 0.05, 0.1, 0.5, 1, 2, 5, 10]\n",
    "    \n",
    "    \n",
    "    for i in range(len(c_values)):\n",
    "        \n",
    "        #Feature vectors \n",
    "        vectorizer = CountVectorizer()\n",
    "\n",
    "        #Feature vectors - train_data and dev_data   \n",
    "        vtrain = vectorizer.fit_transform(train_data).toarray()\n",
    "        vdev = vectorizer.transform(dev_data).toarray()\n",
    "\n",
    "        #Logistic Regression model - L1 regularization \n",
    "        logreg_model_L1 = LogisticRegression(C = c_values[i], penalty=\"l1\", tol=0.015, solver='liblinear')\n",
    "        #Train on transformed train data  \n",
    "        logreg_model_L1.fit(vtrain, train_labels)\n",
    "        #Evaluate performance on transformed train data\n",
    "        logreg_predict_L1 = logreg_model_L1.predict(vdev)\n",
    "        #Reduced vocabulary - have at least one non-zero weight among the four categories.\n",
    "        reduced = (logreg_model_L1.coef_!= 0)\n",
    "        reduced_columns = reduced.any(axis = 0)\n",
    "        \n",
    "        #Reduced vocabulary features\n",
    "        vtrain_reduced = vtrain[:, reduced_columns]\n",
    "        vdev_reduced = vdev[:, reduced_columns]\n",
    "    \n",
    "        #Logistic Regression model - L2 regularization \n",
    "        logreg_model_L2 = LogisticRegression(C = 0.5, penalty=\"l2\", tol=0.015, solver='liblinear')\n",
    "        #Train on transformed train data  \n",
    "        logreg_model_L2.fit(vtrain_reduced, train_labels)\n",
    "        #Evaluate performance on transformed train data\n",
    "        logreg_predict_L2 = logreg_model_L2.predict(vdev_reduced)\n",
    "        \n",
    "        print('L1 regularization strength :', c_values[i])\n",
    "        print('Old logistic regression model f1 score : ', metrics.f1_score(y_true = dev_labels, y_pred = logreg_predict_L1, average=\"weighted\"))\n",
    "        print('New logistic regression model f1 score : ', metrics.f1_score(y_true = dev_labels, y_pred = logreg_predict_L2, average=\"weighted\"))\n",
    "        print('Size of vocabulary :', vtrain_reduced.shape[1])\n",
    "    logs = np.log([1, 3, 12, 17, 124, 212, 746, 1169, 1632, 2697, 3053])\n",
    "    plt.plot([0.22971579702348932, 0.33356858531863487, 0.43221291386913857, 0.4678284761184072, 0.6421575348073696, 0.6922752960669616, 0.6593209182604232, 0.6814193753726073, 0.6886526407072935, 0.7009542911060238, 0.6950533594619739], logs)\n",
    "    plt.xlim(0.1, 1)\n",
    "    plt.ylim(0, 15)\n",
    "    plt.xlabel('f1 scores')\n",
    "    plt.ylabel('log of vocabulary size')\n",
    "    plt.suptitle('f1 score vs log vocabulary size');\n",
    "\n",
    "    \n",
    "P6()"
   ]
  },
  {
   "cell_type": "markdown",
   "metadata": {
    "colab_type": "text",
    "id": "bZmIPwExFsx1"
   },
   "source": [
    "ANSWER:\n",
    "\n",
    "The F1 scores of the new logistic regression models are always higher than those of their old regression model counterparts. Therefore, having a reduced vocabulary size increases the F1 scores. "
   ]
  },
  {
   "cell_type": "markdown",
   "metadata": {
    "colab_type": "text",
    "id": "QmrHf8AMFsxz"
   },
   "source": [
    "### Part 7:\n",
    "\n",
    "How is `TfidfVectorizer` different than `CountVectorizer`?\n",
    "\n",
    "Produce a Logistic Regression model based on data represented in tf-idf form, with L2 regularization strength of 100.  Evaluate and show the f1 score.  How is `TfidfVectorizer` different than `CountVectorizer`?\n",
    "\n",
    "Show the 3 documents with highest R ratio, where ...<br/>\n",
    "$R\\,ratio = maximum\\,predicted\\,probability \\div predicted\\,probability\\,of\\,correct\\,label$\n",
    "\n",
    "Explain what the R ratio describes.  What kinds of mistakes is the model making? Suggest a way to address one particular issue that you see.\n",
    "\n",
    "Note:\n",
    "* Train on the transformed training data.\n",
    "* Evaluate on the transformed development data.\n",
    "* You can use `TfidfVectorizer` and its `.fit_transform` method to transform data to tf-idf form.\n",
    "* You can use `LogisticRegression(C=100, solver=\"liblinear\", multi_class=\"auto\")` to produce a logistic regression model.\n",
    "* You can use `LogisticRegression`'s `.predict_proba` method to access predicted probabilities."
   ]
  },
  {
   "cell_type": "code",
   "execution_count": 11,
   "metadata": {
    "colab": {},
    "colab_type": "code",
    "id": "8vwU_9t2Fsx0"
   },
   "outputs": [
    {
     "name": "stdout",
     "output_type": "stream",
     "text": [
      "R ratio : [24.63726603 26.46135381 26.88423544 25.66526038 26.96620094 17.84129097\n",
      "  9.68704906 27.05819446 25.6813109  18.54113553 27.21512743 27.47065979\n",
      " 27.4824016  25.72288133 27.2593837  10.7275661  24.07622381  7.80487317\n",
      " 27.38597986 26.913127   26.67305311 26.79211536 19.60081468 15.38863348\n",
      " 15.09196661 24.82466859 24.96933453 27.44078166 27.0306493  23.21764921\n",
      "  7.80487317 27.45992534 27.20210771 27.08310616 19.61488058 27.14383754\n",
      " 23.64673061 17.16279175 25.10701971 18.2064719  18.0177622  21.47727407\n",
      " 20.76758407 26.97362902 16.64530346 27.30260036 22.37051668 16.87704763\n",
      " 26.43022305 12.57809701 26.45329891 27.25954855 24.80967498 22.5276307\n",
      " 25.8745284  23.56395436 25.75024661 17.73577174 25.59533523 23.71895956\n",
      " 22.85590981 13.81647309 17.05108732 17.1126965  19.31730993 23.35921501\n",
      " 22.615112   15.2628417  27.20953251 26.90123764 25.10827895 22.40166784\n",
      " 23.60769716 25.94861475  7.80487317 27.47191038 13.22046554 17.08235825\n",
      " 11.18430134 22.13954343 27.39613067 25.05043498 20.43101056 26.48193516\n",
      " 17.85740975 25.85974652 16.49451096 24.7086613  24.61680571 22.80934482\n",
      " 15.24193107 26.35318945 27.36007649 19.82563468 26.58114037 16.60768893\n",
      " 26.22178788 15.56069322 12.78693615 27.32614949 26.40176013 19.14581068\n",
      " 26.08691461 22.13886868 22.55270742 23.56277651 10.2014753  16.78307796\n",
      " 19.44230495 23.52860243 15.92787886 15.57859413 26.79956928 26.90844084\n",
      " 25.01659706 27.47723131 17.131371   21.35589737 26.54888735 11.32211795\n",
      " 27.40439224 24.62633006 21.09213308 18.34926965 15.73915942 26.29420476\n",
      " 21.84035305 13.82210573 21.83338226 25.10436623 23.69646907 20.81836523\n",
      " 18.58640072 27.00923298 20.22978955 15.71671139 24.4129971  23.88455981\n",
      " 24.6528328  27.47411657 20.80701059 17.93805432 26.39669997 25.0054032\n",
      " 21.64290101 18.8912827  25.91356237 27.31193839 24.6953533  25.99239019\n",
      " 13.16416346 23.67204667 25.27438987 21.03785167 21.09540672 19.79899371\n",
      " 15.33507759 17.22343412 26.33265064 26.08830647 18.94651378 16.97583925\n",
      " 24.67888294 27.04249166 27.08969774 27.43659081 26.08472002 13.53917367\n",
      " 26.45158406 22.61528378 27.12779135 14.64239758 17.30298964 17.74466239\n",
      " 27.2843026  20.75870053 17.25361509 21.87335842 26.27874743 10.32115759\n",
      " 24.97892123 26.54273635 17.93535265 27.08491976 20.88243739  7.80487317\n",
      " 25.96741761 26.62759932 20.11704388 27.00163986  8.75698218 16.01330812\n",
      " 26.53731051 15.422625   16.93694127 26.89686237 16.09947762 25.82000544\n",
      " 16.41790677 27.28722621 23.25073763 16.89781047 26.00969394 20.33051555\n",
      " 14.5241309  25.17452826 12.99359122 16.52590134 26.53537866 21.10773491\n",
      " 27.34783362 21.28280771 27.16448001 26.82527396 23.15360832 27.31084347\n",
      " 27.24513837 26.52544768 17.9283193  18.65271468 17.77890816 19.24406665\n",
      " 22.44910767 18.66196227 27.44080377 18.55018003 18.03712737 12.99659797\n",
      " 26.00396795 26.42062503 27.4517108  26.01705839 27.44290346 27.09306667\n",
      " 25.39834524 27.25792233 15.92651616 27.40631248  7.80487317 27.09818851\n",
      " 17.6503663  27.30098939 27.31382889 25.82898468 26.63898015 16.249931\n",
      " 22.97034533 16.48925557 26.98490806 25.05020575 17.13002303 21.78294716\n",
      " 25.46463172 23.09750725  7.80487317 24.02391137 27.28910068 18.29444024\n",
      " 18.27554296 25.4032643  23.29129998 18.10040763 25.90942768 13.8004044\n",
      " 22.55379802 25.47007221 26.88452564 21.45278678 13.3104478  17.18713089\n",
      " 19.06323611 25.04629362 18.14369663 27.05517767 21.57818662 15.50541614\n",
      " 27.10894475 19.23132298 25.8897669  22.32920577 23.34128315 10.57053434\n",
      " 20.85884328 16.88615008 23.51013176 18.8815942  23.15278261 26.52244135\n",
      "  7.80487317 25.13612088 13.04927229 19.7228949  19.18661113 24.86244882\n",
      " 24.96732118 13.8538938  26.82180828 26.22180969 27.18916297 26.23877085\n",
      " 25.74797363 25.27510945 25.70817514 26.00831183 26.66584654 25.59670996\n",
      " 14.19625623 20.25713564 19.07261081 27.06770062 24.94074881 22.76612662\n",
      " 22.60357485 27.34814993 26.23826784 25.46346857 27.02590987 27.35907108\n",
      " 24.10312793 27.40556231 18.42190741 22.47141956 26.57444225 26.52753348\n",
      " 27.1990536  13.91180859 26.95593055 23.28073345 16.13837392 26.81074423\n",
      " 20.22945251 12.99128885 27.01317989 20.39335065 16.2321889  26.91388945\n",
      "  7.80487317 20.23313204 22.51259488 26.82472597  7.80487317 17.690648\n",
      " 24.41428001 25.51612774 26.92850096 26.90985519 15.41037819 25.65507735\n",
      " 19.98504051 24.93878962 20.29061394 23.43740508 17.80426643 25.5910447\n",
      " 27.30840044 25.8096842  17.27985018 16.20025213 27.21804227  7.80487317\n",
      " 27.42043521 20.91306004 14.60944121 25.24523617 11.30264561 27.26291606\n",
      " 27.3904344   7.80487317 21.31485574 26.94264527 26.73065354 16.25614355\n",
      " 25.5561114  20.24177765 19.35255362 27.43794034 25.7912227  26.69923777\n",
      " 26.99571414 23.39301129 24.18557128 24.20937587 27.4791684   7.80487317\n",
      " 25.7038383  27.07090047 22.16376079 25.29623095 11.19941892 19.02683376\n",
      " 27.05467894 26.79890951 26.28590424 26.89653611 27.43832002 26.0753556\n",
      " 17.27396867 27.15679487 27.04805808 15.8856653  25.84486782 27.42739019\n",
      " 14.08582515 23.22186831 27.3889938  25.02425533 16.95585102 24.64588141\n",
      " 27.12417222 27.28771566 27.24035032 18.36839695 26.53297578 22.83842082\n",
      " 22.93766345 12.30855007 24.72116211 24.93183482 27.45332826 17.68239958\n",
      " 25.80811927 21.50476507 24.75158194 25.81254419 27.21017767  7.80487317\n",
      " 25.69794807 19.47988979  7.80487317 25.44509075 27.0178078  20.94991692\n",
      " 18.01263196 25.89751219 27.03614953 16.88438897 25.62097809 25.55483277\n",
      " 25.03959575 26.52090987 10.88936532 27.4681335  18.82046014 11.5792969\n",
      " 22.88798358 23.43384752 27.26342126 14.88316341 10.93455193 17.40948247\n",
      " 16.47853747 21.95357817 24.60826563  7.80487317 26.6956711  10.21549013\n",
      " 27.27410283 16.30586968 12.53356382 18.20229286 22.76988778  7.93616672\n",
      " 20.51949772 26.27711422 13.97378505 25.89594847 26.65104535 16.95352464\n",
      " 10.78313652 26.53995496 14.74766244 26.68665432 11.49348654 20.01843809\n",
      " 25.90774012 27.4828561  26.89772194 25.24629388 19.52748709 27.21779066\n",
      " 13.47703088 25.12491034 17.72081385 26.73742261 22.76725612 17.94131402\n",
      " 26.75225703 11.89371399 15.63909002 26.53731886 21.05656193 14.91018785\n",
      " 15.02826133 11.90529903 19.070912   21.3315017  26.4697604  22.39623134\n",
      " 25.87326875 21.38943734 25.52645799 14.73116363 20.74783417 12.80861807\n",
      " 22.79957542 27.47987507 17.59997022 21.45629762 23.08933133 16.24208654\n",
      " 27.14337227 27.36352653 23.01947571 15.05112748 22.35499362 26.91018598\n",
      " 24.45564712 22.93059364 27.31792269 27.21533504 25.96303584 27.36512202\n",
      " 22.12707803 14.29650564 17.32410973 24.10128327 25.72258316 27.46185588\n",
      " 27.12399113 17.28050577 25.36940915 27.33270688 26.16510841 25.28387188\n",
      " 27.00922278 26.90148735 19.59723915  7.80487317 21.03184392 24.39571704\n",
      " 26.78635024 27.31586748 11.70418833 22.5089725  26.89615914 25.6163799\n",
      " 25.43402542 17.26556997 12.58799706 24.05631423 22.66735166 20.44032326\n",
      " 13.41752343 26.98393957 13.63568057 26.7653795  13.50148127 12.85255264\n",
      " 17.72896018 19.74161621 20.94506976 19.16278191 14.78974125  7.80487317\n",
      "  9.4028359  21.88721746 27.11378791 10.36228559 25.20751774 25.69642019\n",
      " 27.3172235  27.47399163 22.39913526 24.59081468 10.61006927  7.80487317\n",
      " 21.86454811 26.78144738 11.73683843 20.4325161  26.45193471 27.11710644\n",
      " 26.82373602 14.79609233 27.01970256 22.18112842 10.97465171 26.50524575\n",
      " 10.434186   10.15384323 27.15360816 24.73336177  7.18655716 26.51120131\n",
      " 20.38686647 25.50228077 26.93247372 27.12236225 27.07853484 24.78202377\n",
      " 19.26726025 26.99856701 25.58255122  7.80487317 26.8493515  23.27833804\n",
      " 18.94998593 19.11369863 24.0003098  26.14075258 21.90159864 26.89275024\n",
      " 14.71442543 21.43402608 26.71987174 16.36909729 26.02626948 25.37363335\n",
      " 27.12230759 26.08929713 26.24558722 27.05609195 15.30941291 25.37732275\n",
      " 25.8422542   9.30501007 25.0640604   7.80487317 26.0704186  16.46112449\n",
      " 23.68082275 11.80020287 26.24774139 27.29416777 26.53898003 26.83180381\n",
      " 27.38010594 26.08727427 15.76795227 25.71379978 22.98002409 23.42660924\n",
      " 15.96302333 19.74369318 26.42751237 14.06938314 15.99818545 26.37091324\n",
      " 15.54921174 24.08392881 26.77673657 26.670843   13.68213626  7.80487317\n",
      " 20.73325324 26.7809187  20.58568879 24.88756626 22.84653164 23.50532168\n",
      " 21.73676874 13.88242314 20.84910031 23.95531809 26.81840939 26.92680035\n",
      " 26.66299473 21.63385425 26.41684829 18.59181321 12.63909463 26.74536296\n",
      " 14.67022436 27.2540123  24.91545548 22.75972594]\n",
      "Logistic regression f1 score : 0.7597662427853104\n",
      "Logistic regression predicted probabilities : [[3.63855457e-02 5.41002347e-02 8.96440369e-01 1.30738507e-02]\n",
      " [1.28921413e-02 9.62810798e-01 1.73859646e-02 6.91109604e-03]\n",
      " [1.84043074e-04 9.78197577e-01 2.02457921e-02 1.37258775e-03]\n",
      " ...\n",
      " [6.59405086e-03 1.59906431e-03 9.91652110e-01 1.54774740e-04]\n",
      " [7.39094167e-02 1.07209116e-02 9.06562444e-01 8.80722777e-03]\n",
      " [1.36717267e-01 2.85634471e-02 6.59423786e-03 8.28125048e-01]]\n"
     ]
    }
   ],
   "source": [
    "def P7():\n",
    "\n",
    "    TFIDF = TfidfVectorizer()\n",
    "    vtrain_tfidf = TFIDF.fit_transform(train_data).toarray()\n",
    "    vdev_tfidf= TFIDF.transform(dev_data).toarray()\n",
    "    \n",
    "    #Logistic Regression Model \n",
    "    logreg_7 = LogisticRegression(C=100, solver=\"liblinear\", multi_class=\"auto\")\n",
    "    logreg_7.fit(vtrain_tfidf, train_labels)\n",
    "    logreg_7_predict = logreg_7.predict(vdev_tfidf)\n",
    "    logreg_7_predict_proba = logreg_7.predict_proba(vdev_tfidf) \n",
    "    \n",
    "    #Maximum predicted probability \n",
    "    max_predict_proba = logreg_7_predict_proba.max(axis = 1)\n",
    "    \n",
    "    #Probability of correct labels\n",
    "    correct_proba = logreg_7_predict_proba.flatten()\n",
    "    \n",
    "    #R ratio = max predicted probability / predicted probability of correct label\n",
    "    r_ratio = max_predict_proba/correct_proba[0]\n",
    "    print('R ratio :', r_ratio)\n",
    "    \n",
    "    #Get f1 results\n",
    "    print('Logistic regression f1 score :', metrics.f1_score(y_true = dev_labels, y_pred = logreg_7_predict, average=\"weighted\"))\n",
    "    print('Logistic regression predicted probabilities :', logreg_7_predict_proba)\n",
    "\n",
    "\n",
    "P7()"
   ]
  },
  {
   "cell_type": "markdown",
   "metadata": {
    "colab_type": "text",
    "id": "bZmIPwExFsx1"
   },
   "source": [
    "ANSWER: Count Vectorizer computes the frequency of words within a vocabulary, while TFIDF also counts the frequency of words but with the weight of each word varying, depending on how often they come up in the vocabulary. The IDF portion of TFIDF accounts for the fact that some words appear more frequently in general, but that does not necessarily carry any meaning for what it is labeled as. \n",
    "\n",
    "The R ratio describes what percentage of words are correctly/incorrectly labeled.  \n",
    "If the R ratio is greater than 1, meaning that the maximum predicted probability is greater than the predicted probability of a correct label, that means there are more words being incorrectly labeled. If the R ratio is less than 1, meaning the maximum predicted probability is less than the predicted probability of a correct label, not enough words are being labeled correctly. \n"
   ]
  },
  {
   "cell_type": "code",
   "execution_count": null,
   "metadata": {
    "colab": {},
    "colab_type": "code",
    "id": "ZMaqe8c5Fsx2"
   },
   "outputs": [],
   "source": []
  },
  {
   "cell_type": "code",
   "execution_count": null,
   "metadata": {},
   "outputs": [],
   "source": []
  }
 ],
 "metadata": {
  "colab": {
   "collapsed_sections": [],
   "name": "firstname_lastname_p2.ipynb",
   "private_outputs": true,
   "provenance": [
    {
     "file_id": "https://github.com/MIDS-W207/Master/blob/master/Projects/firstname_lastname_p2.ipynb",
     "timestamp": 1559779272103
    }
   ],
   "version": "0.3.2"
  },
  "kernelspec": {
   "display_name": "Python 3",
   "language": "python",
   "name": "python3"
  },
  "language_info": {
   "codemirror_mode": {
    "name": "ipython",
    "version": 3
   },
   "file_extension": ".py",
   "mimetype": "text/x-python",
   "name": "python",
   "nbconvert_exporter": "python",
   "pygments_lexer": "ipython3",
   "version": "3.8.3"
  },
  "toc": {
   "base_numbering": 1,
   "nav_menu": {},
   "number_sections": false,
   "sideBar": true,
   "skip_h1_title": true,
   "title_cell": "Table of Contents",
   "title_sidebar": "Contents",
   "toc_cell": false,
   "toc_position": {},
   "toc_section_display": true,
   "toc_window_display": false
  }
 },
 "nbformat": 4,
 "nbformat_minor": 1
}
